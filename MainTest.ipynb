{
 "cells": [
  {
   "cell_type": "markdown",
   "metadata": {},
   "source": [
    "<center><h1>Information Search Engine</h1></center>"
   ]
  },
  {
   "cell_type": "markdown",
   "metadata": {},
   "source": [
    "<center><h2>TME RI</h2></center>\n",
    "<center><h3>ZHANG Xiao</h3></center>"
   ]
  },
  {
   "cell_type": "code",
   "execution_count": 2,
   "metadata": {
    "collapsed": true
   },
   "outputs": [],
   "source": [
    "from index import *"
   ]
  },
  {
   "cell_type": "markdown",
   "metadata": {},
   "source": [
    "### 1. TME1 \n",
    "##### Class Index( )"
   ]
  },
  {
   "cell_type": "code",
   "execution_count": 3,
   "metadata": {
    "collapsed": false
   },
   "outputs": [
    {
     "data": {
      "text/plain": [
       "<index.Index instance at 0x109aa1560>"
      ]
     },
     "execution_count": 3,
     "metadata": {},
     "output_type": "execute_result"
    }
   ],
   "source": [
    "i=Index()\n",
    "i.indexation()"
   ]
  },
  {
   "cell_type": "code",
   "execution_count": 4,
   "metadata": {
    "collapsed": false
   },
   "outputs": [],
   "source": [
    "# exemple\n",
    "tf_doc=i.getTfsForDoc('1')\n",
    "tf_stem=i.getTfsForStem('invari')"
   ]
  },
  {
   "cell_type": "code",
   "execution_count": 5,
   "metadata": {
    "collapsed": false
   },
   "outputs": [
    {
     "name": "stdout",
     "output_type": "stream",
     "text": [
      "{'samelson': 1, 'algebra': 1, 'preliminari': 1, 'perli': 1, 'intern': 1, 'report': 1, 'languag': 1}\n"
     ]
    }
   ],
   "source": [
    "print tf_doc"
   ]
  },
  {
   "cell_type": "markdown",
   "metadata": {},
   "source": [
    "### 2. Generate Queries"
   ]
  },
  {
   "cell_type": "markdown",
   "metadata": {},
   "source": [
    "<li>Query</li>\n",
    "<li>IRList</li>\n",
    "<li>QueryCACM</li>   (Generalise touts les queries(id, relevants,text) de fichier cacm )"
   ]
  },
  {
   "cell_type": "code",
   "execution_count": 11,
   "metadata": {
    "collapsed": false
   },
   "outputs": [],
   "source": [
    "# from queryparser import *\n",
    "# gq=QueryCACM()\n",
    "# gq.relevants()\n",
    "# gq.Querycacm()"
   ]
  },
  {
   "cell_type": "code",
   "execution_count": 12,
   "metadata": {
    "collapsed": false
   },
   "outputs": [
    {
     "data": {
      "text/plain": [
       "'What articles exist which deal with TSS (Time Sharing System), an operating system for IBM computers?'"
      ]
     },
     "execution_count": 12,
     "metadata": {},
     "output_type": "execute_result"
    }
   ],
   "source": [
    "gq.queries['1'].text"
   ]
  },
  {
   "cell_type": "code",
   "execution_count": 11,
   "metadata": {
    "collapsed": false
   },
   "outputs": [],
   "source": [
    "# irl=IRList(gq.queries['1'],v.getRanking(gq.queries['1'].text))"
   ]
  },
  {
   "cell_type": "markdown",
   "metadata": {},
   "source": [
    "###  3. Weighter\n"
   ]
  },
  {
   "cell_type": "markdown",
   "metadata": {},
   "source": [
    "<li>Weighter() </li> \n",
    "<li>WeighterTf1()</li>\n",
    "<li>WeighterTfTf()</li>\n",
    "<li>WeighterTfIdf()</li>\n",
    "<li>WeighterLogtfIdf()</li>\n",
    "<li>WeighterLogtfidfLogtfidf()</li>\n",
    "\n"
   ]
  },
  {
   "cell_type": "code",
   "execution_count": 13,
   "metadata": {
    "collapsed": false
   },
   "outputs": [
    {
     "data": {
      "text/plain": [
       "{'articl': 1,\n",
       " 'comput': 1,\n",
       " 'deal': 1,\n",
       " 'exist': 1,\n",
       " 'ibm': 1,\n",
       " 'operat': 1,\n",
       " 'share': 1,\n",
       " 'time': 1,\n",
       " 'tss': 1}"
      ]
     },
     "execution_count": 13,
     "metadata": {},
     "output_type": "execute_result"
    }
   ],
   "source": [
    "w=WeighterTf1()\n",
    "w.construct()\n",
    "w.getWeigtsForQuery(gq.queries['1'].text)"
   ]
  },
  {
   "cell_type": "code",
   "execution_count": 11,
   "metadata": {
    "collapsed": false
   },
   "outputs": [
    {
     "data": {
      "text/plain": [
       "{'articl': 1,\n",
       " 'comput': 1,\n",
       " 'deal': 1,\n",
       " 'exist': 1,\n",
       " 'ibm': 1,\n",
       " 'operat': 1,\n",
       " 'share': 1,\n",
       " 'time': 1,\n",
       " 'tss': 1}"
      ]
     },
     "execution_count": 11,
     "metadata": {},
     "output_type": "execute_result"
    }
   ],
   "source": [
    "w1=WeighterTfTf()\n",
    "w1.construct()\n",
    "w1.getWeigtsForQuery(gq.queries['1'].text)"
   ]
  },
  {
   "cell_type": "code",
   "execution_count": 14,
   "metadata": {
    "collapsed": false
   },
   "outputs": [
    {
     "data": {
      "text/plain": [
       "{'articl': 2.7725887222397811,\n",
       " 'comput': 0.69314718055994529,\n",
       " 'deal': 2.6390573296152584,\n",
       " 'exist': 2.3978952727983707,\n",
       " 'ibm': 2.4849066497880004,\n",
       " 'operat': 3.4965075614664802,\n",
       " 'share': 2.3025850929940459,\n",
       " 'time': 1.3862943611198906,\n",
       " 'tss': 2.8332133440562162}"
      ]
     },
     "execution_count": 14,
     "metadata": {},
     "output_type": "execute_result"
    }
   ],
   "source": [
    "w2=WeighterTfIdf()\n",
    "w2.construct()\n",
    "w2.getWeigtsForQuery(gq.queries['1'].text)"
   ]
  },
  {
   "cell_type": "markdown",
   "metadata": {},
   "source": [
    "### 4. Models"
   ]
  },
  {
   "cell_type": "markdown",
   "metadata": {},
   "source": [
    "<li>IRmodel</li>\n",
    "<li>Vectoriel</li>\n",
    "<li>LanguageModel</li>\n",
    "<li>OkapiModel</li>\n",
    "<li> GridSearch</li>"
   ]
  },
  {
   "cell_type": "code",
   "execution_count": 14,
   "metadata": {
    "collapsed": false
   },
   "outputs": [
    {
     "ename": "KeyboardInterrupt",
     "evalue": "",
     "output_type": "error",
     "traceback": [
      "\u001b[0;31m---------------------------------------------------------------------------\u001b[0m",
      "\u001b[0;31mKeyboardInterrupt\u001b[0m                         Traceback (most recent call last)",
      "\u001b[0;32m<ipython-input-14-fcf9933d19da>\u001b[0m in \u001b[0;36m<module>\u001b[0;34m()\u001b[0m\n\u001b[1;32m      1\u001b[0m \u001b[0mv\u001b[0m\u001b[0;34m=\u001b[0m\u001b[0mVectoriel\u001b[0m\u001b[0;34m(\u001b[0m\u001b[0mweighter\u001b[0m\u001b[0;34m=\u001b[0m\u001b[0mWeighterTfTf\u001b[0m\u001b[0;34m(\u001b[0m\u001b[0;34m)\u001b[0m\u001b[0;34m)\u001b[0m\u001b[0;34m\u001b[0m\u001b[0m\n\u001b[1;32m      2\u001b[0m \u001b[0mv\u001b[0m\u001b[0;34m.\u001b[0m\u001b[0mconstruct\u001b[0m\u001b[0;34m(\u001b[0m\u001b[0;34m)\u001b[0m\u001b[0;34m\u001b[0m\u001b[0m\n\u001b[0;32m----> 3\u001b[0;31m \u001b[0mv\u001b[0m\u001b[0;34m.\u001b[0m\u001b[0mWeightsNormfordocs\u001b[0m\u001b[0;34m(\u001b[0m\u001b[0;34m)\u001b[0m \u001b[0;31m#\u001b[0m\u001b[0;34m\u001b[0m\u001b[0m\n\u001b[0m",
      "\u001b[0;32m/Users/cristalezx/Desktop/UPMC/RI/RI/irmodel.pyc\u001b[0m in \u001b[0;36mWeightsNormfordocs\u001b[0;34m(self)\u001b[0m\n\u001b[1;32m     49\u001b[0m         \u001b[0mself\u001b[0m\u001b[0;34m.\u001b[0m\u001b[0mnormsdocs\u001b[0m\u001b[0;34m=\u001b[0m\u001b[0;34m{\u001b[0m\u001b[0;34m}\u001b[0m\u001b[0;34m\u001b[0m\u001b[0m\n\u001b[1;32m     50\u001b[0m         \u001b[0;32mfor\u001b[0m \u001b[0mdoc_id\u001b[0m \u001b[0;32min\u001b[0m \u001b[0mself\u001b[0m\u001b[0;34m.\u001b[0m\u001b[0mweighter\u001b[0m\u001b[0;34m.\u001b[0m\u001b[0mindex\u001b[0m\u001b[0;34m.\u001b[0m\u001b[0mdocs\u001b[0m\u001b[0;34m.\u001b[0m\u001b[0mkeys\u001b[0m\u001b[0;34m(\u001b[0m\u001b[0;34m)\u001b[0m\u001b[0;34m:\u001b[0m\u001b[0;34m\u001b[0m\u001b[0m\n\u001b[0;32m---> 51\u001b[0;31m             \u001b[0mD_Weights\u001b[0m\u001b[0;34m=\u001b[0m\u001b[0mself\u001b[0m\u001b[0;34m.\u001b[0m\u001b[0mweighter\u001b[0m\u001b[0;34m.\u001b[0m\u001b[0mgetDocWeightsForDoc\u001b[0m\u001b[0;34m(\u001b[0m\u001b[0mdoc_id\u001b[0m\u001b[0;34m)\u001b[0m\u001b[0;34m\u001b[0m\u001b[0m\n\u001b[0m\u001b[1;32m     52\u001b[0m             \u001b[0mself\u001b[0m\u001b[0;34m.\u001b[0m\u001b[0mweightsdocs\u001b[0m\u001b[0;34m[\u001b[0m\u001b[0mdoc_id\u001b[0m\u001b[0;34m]\u001b[0m\u001b[0;34m=\u001b[0m\u001b[0mD_Weights\u001b[0m\u001b[0;34m\u001b[0m\u001b[0m\n\u001b[1;32m     53\u001b[0m             \u001b[0mD_norm\u001b[0m\u001b[0;34m=\u001b[0m\u001b[0mnp\u001b[0m\u001b[0;34m.\u001b[0m\u001b[0mlinalg\u001b[0m\u001b[0;34m.\u001b[0m\u001b[0mnorm\u001b[0m\u001b[0;34m(\u001b[0m\u001b[0mD_Weights\u001b[0m\u001b[0;34m.\u001b[0m\u001b[0mvalues\u001b[0m\u001b[0;34m(\u001b[0m\u001b[0;34m)\u001b[0m\u001b[0;34m,\u001b[0m\u001b[0mord\u001b[0m\u001b[0;34m=\u001b[0m\u001b[0;36m1\u001b[0m\u001b[0;34m)\u001b[0m\u001b[0;34m*\u001b[0m\u001b[0;36m1.\u001b[0m\u001b[0;34m\u001b[0m\u001b[0m\n",
      "\u001b[0;32m/Users/cristalezx/Desktop/UPMC/RI/RI/weighter.pyc\u001b[0m in \u001b[0;36mgetDocWeightsForDoc\u001b[0;34m(self, doc_id)\u001b[0m\n\u001b[1;32m     55\u001b[0m         \u001b[0mWeighter\u001b[0m\u001b[0;34m.\u001b[0m\u001b[0m__init__\u001b[0m\u001b[0;34m(\u001b[0m\u001b[0mself\u001b[0m\u001b[0;34m)\u001b[0m\u001b[0;34m\u001b[0m\u001b[0m\n\u001b[1;32m     56\u001b[0m     \u001b[0;32mdef\u001b[0m \u001b[0mgetDocWeightsForDoc\u001b[0m\u001b[0;34m(\u001b[0m\u001b[0mself\u001b[0m\u001b[0;34m,\u001b[0m\u001b[0mdoc_id\u001b[0m\u001b[0;34m)\u001b[0m\u001b[0;34m:\u001b[0m\u001b[0;34m\u001b[0m\u001b[0m\n\u001b[0;32m---> 57\u001b[0;31m         \u001b[0;32mreturn\u001b[0m \u001b[0mself\u001b[0m\u001b[0;34m.\u001b[0m\u001b[0mindex\u001b[0m\u001b[0;34m.\u001b[0m\u001b[0mgetTfsForDoc\u001b[0m\u001b[0;34m(\u001b[0m\u001b[0mdoc_id\u001b[0m\u001b[0;34m)\u001b[0m\u001b[0;34m\u001b[0m\u001b[0m\n\u001b[0m\u001b[1;32m     58\u001b[0m     \u001b[0;32mdef\u001b[0m \u001b[0mgetDocWeightsForStem\u001b[0m\u001b[0;34m(\u001b[0m\u001b[0mself\u001b[0m\u001b[0;34m,\u001b[0m\u001b[0mstem\u001b[0m\u001b[0;34m)\u001b[0m\u001b[0;34m:\u001b[0m\u001b[0;34m\u001b[0m\u001b[0m\n\u001b[1;32m     59\u001b[0m         \u001b[0;32mreturn\u001b[0m \u001b[0mself\u001b[0m\u001b[0;34m.\u001b[0m\u001b[0mindex\u001b[0m\u001b[0;34m.\u001b[0m\u001b[0mgetTfsForStem\u001b[0m\u001b[0;34m(\u001b[0m\u001b[0mstem\u001b[0m\u001b[0;34m)\u001b[0m\u001b[0;34m\u001b[0m\u001b[0m\n",
      "\u001b[0;32m/Users/cristalezx/Desktop/UPMC/RI/RI/index.pyc\u001b[0m in \u001b[0;36mgetTfsForDoc\u001b[0;34m(self, doc_id)\u001b[0m\n\u001b[1;32m     39\u001b[0m         \u001b[0mf\u001b[0m\u001b[0;34m=\u001b[0m\u001b[0mopen\u001b[0m\u001b[0;34m(\u001b[0m\u001b[0;34m\"_index.txt\"\u001b[0m\u001b[0;34m,\u001b[0m\u001b[0;34m'r'\u001b[0m\u001b[0;34m)\u001b[0m\u001b[0;34m\u001b[0m\u001b[0m\n\u001b[1;32m     40\u001b[0m         \u001b[0mf\u001b[0m\u001b[0;34m.\u001b[0m\u001b[0mseek\u001b[0m\u001b[0;34m(\u001b[0m\u001b[0mself\u001b[0m\u001b[0;34m.\u001b[0m\u001b[0mdocs\u001b[0m\u001b[0;34m[\u001b[0m\u001b[0mdoc_id\u001b[0m\u001b[0;34m]\u001b[0m\u001b[0;34m[\u001b[0m\u001b[0;36m0\u001b[0m\u001b[0;34m]\u001b[0m\u001b[0;34m)\u001b[0m\u001b[0;34m\u001b[0m\u001b[0m\n\u001b[0;32m---> 41\u001b[0;31m         \u001b[0mTfs_dic\u001b[0m\u001b[0;34m=\u001b[0m\u001b[0meval\u001b[0m\u001b[0;34m(\u001b[0m\u001b[0;34m\"{\"\u001b[0m\u001b[0;34m+\u001b[0m\u001b[0mf\u001b[0m\u001b[0;34m.\u001b[0m\u001b[0mread\u001b[0m\u001b[0;34m(\u001b[0m\u001b[0mself\u001b[0m\u001b[0;34m.\u001b[0m\u001b[0mdocs\u001b[0m\u001b[0;34m[\u001b[0m\u001b[0mdoc_id\u001b[0m\u001b[0;34m]\u001b[0m\u001b[0;34m[\u001b[0m\u001b[0;36m1\u001b[0m\u001b[0;34m]\u001b[0m\u001b[0;34m)\u001b[0m\u001b[0;34m+\u001b[0m\u001b[0;34m\"}\"\u001b[0m\u001b[0;34m)\u001b[0m\u001b[0;34m\u001b[0m\u001b[0m\n\u001b[0m\u001b[1;32m     42\u001b[0m \u001b[0;34m\u001b[0m\u001b[0m\n\u001b[1;32m     43\u001b[0m         \u001b[0;32mreturn\u001b[0m \u001b[0mTfs_dic\u001b[0m\u001b[0;34m[\u001b[0m\u001b[0mdoc_id\u001b[0m\u001b[0;34m]\u001b[0m\u001b[0;34m[\u001b[0m\u001b[0;36m0\u001b[0m\u001b[0;34m]\u001b[0m\u001b[0;34m\u001b[0m\u001b[0m\n",
      "\u001b[0;32m/Users/cristalezx/Desktop/UPMC/RI/RI/index.pyc\u001b[0m in \u001b[0;36m<module>\u001b[0;34m()\u001b[0m\n",
      "\u001b[0;31mKeyboardInterrupt\u001b[0m: "
     ]
    }
   ],
   "source": [
    "v=Vectoriel(weighter=WeighterTfTf())\n",
    "v.construct()\n",
    "v.WeightsNormfordocs() # "
   ]
  },
  {
   "cell_type": "code",
   "execution_count": 45,
   "metadata": {
    "collapsed": false
   },
   "outputs": [
    {
     "name": "stdout",
     "output_type": "stream",
     "text": [
      "Calculate time is: 0.0527398586273\n"
     ]
    }
   ],
   "source": [
    "rank_v_58=v.getRanking(gq.queries['58'].text)"
   ]
  },
  {
   "cell_type": "code",
   "execution_count": 147,
   "metadata": {
    "collapsed": false
   },
   "outputs": [
    {
     "data": {
      "text/plain": [
       "<irmodel.Vectoriel instance at 0x126bb95a8>"
      ]
     },
     "execution_count": 147,
     "metadata": {},
     "output_type": "execute_result"
    }
   ],
   "source": [
    "vn=Vectoriel(weighter=WeighterTfTf(),normalised=True)\n",
    "vn.construct()\n",
    "vn.WeightsNormfordocs() # "
   ]
  },
  {
   "cell_type": "code",
   "execution_count": 152,
   "metadata": {
    "collapsed": false
   },
   "outputs": [],
   "source": [
    "# vn.weightsdocs['3873']"
   ]
  },
  {
   "cell_type": "code",
   "execution_count": 153,
   "metadata": {
    "collapsed": false
   },
   "outputs": [],
   "source": [
    "rank_vn_58=vn.getRanking(gq.queries['58'].text)"
   ]
  },
  {
   "cell_type": "code",
   "execution_count": 47,
   "metadata": {
    "collapsed": false
   },
   "outputs": [
    {
     "data": {
      "text/plain": [
       "<languagemodel.LanguageModel instance at 0x11099f710>"
      ]
     },
     "execution_count": 47,
     "metadata": {},
     "output_type": "execute_result"
    }
   ],
   "source": [
    "from languagemodel import *\n",
    "lm=LanguageModel(weighter=WeighterTfTf())\n",
    "lm.construct()\n",
    "lm.prepare()"
   ]
  },
  {
   "cell_type": "code",
   "execution_count": 48,
   "metadata": {
    "collapsed": false
   },
   "outputs": [
    {
     "name": "stdout",
     "output_type": "stream",
     "text": [
      "calcule time : 20.4689757824\n"
     ]
    }
   ],
   "source": [
    "import time\n",
    "t0=time.time()\n",
    "rank_lm_58=lm.getRanking(gq.queries['58'].text)\n",
    "print \"calcule time :\",time.time()-t0"
   ]
  },
  {
   "cell_type": "code",
   "execution_count": 49,
   "metadata": {
    "collapsed": false
   },
   "outputs": [
    {
     "data": {
      "text/plain": [
       "<okapimodel.OkapiModel instance at 0x115791200>"
      ]
     },
     "execution_count": 49,
     "metadata": {},
     "output_type": "execute_result"
    }
   ],
   "source": [
    "from okapimodel import *\n",
    "ok=OkapiModel(weighter=WeighterTfTf())\n",
    "ok.construct()\n",
    "ok.prepare()"
   ]
  },
  {
   "cell_type": "code",
   "execution_count": 50,
   "metadata": {
    "collapsed": false
   },
   "outputs": [
    {
     "name": "stdout",
     "output_type": "stream",
     "text": [
      "calcule time : 21.3161578178\n"
     ]
    }
   ],
   "source": [
    "import time\n",
    "t0=time.time()\n",
    "rank_ok_58=ok.getRanking(gq.queries['58'].text)\n",
    "print \"calcule time :\",time.time()-t0"
   ]
  },
  {
   "cell_type": "markdown",
   "metadata": {},
   "source": [
    "### 5. Random Walk"
   ]
  },
  {
   "cell_type": "markdown",
   "metadata": {},
   "source": [
    "<li>Pagerank</li>\n",
    "<li>Hits</li>\n",
    "<li>Random Walk Model</li>"
   ]
  },
  {
   "cell_type": "code",
   "execution_count": 1,
   "metadata": {
    "collapsed": false
   },
   "outputs": [],
   "source": [
    "from ramdomwalk import *"
   ]
  },
  {
   "cell_type": "code",
   "execution_count": 30,
   "metadata": {
    "collapsed": false
   },
   "outputs": [],
   "source": [
    "prank = PageRank(10,0.85)\n",
    "mu=prank.randomwalk(i.linkout,i.linkin)\n",
    "# mu = pr.randomWalk(succ, pred)"
   ]
  },
  {
   "cell_type": "code",
   "execution_count": 5,
   "metadata": {
    "collapsed": false
   },
   "outputs": [],
   "source": [
    "hit=HITS(10)\n",
    "a=hit.randomwalk(i.linkout,i.linkin)"
   ]
  },
  {
   "cell_type": "code",
   "execution_count": 137,
   "metadata": {
    "collapsed": false
   },
   "outputs": [],
   "source": [
    "w=WeighterTfTf()\n",
    "v=Vectoriel(weighter=WeighterTfTf())\n",
    "v.construct()\n",
    "v.WeightsNormfordocs()\n"
   ]
  },
  {
   "cell_type": "code",
   "execution_count": 37,
   "metadata": {
    "collapsed": false
   },
   "outputs": [
    {
     "name": "stdout",
     "output_type": "stream",
     "text": [
      "<index.Index instance at 0x1157cbe60>\n",
      "Calculate time is: 0.0249888896942\n"
     ]
    }
   ],
   "source": [
    "mrw=ModelRandomWork(irmodel=v,index=w1.index,weighter=w,randomwalk=prank,nb_seeds=1000,k=50)## Random walk mesure is \n",
    "rank_mrw_58=mrw.getRanking(gq.queries['58'].text)"
   ]
  },
  {
   "cell_type": "code",
   "execution_count": 236,
   "metadata": {
    "collapsed": true
   },
   "outputs": [],
   "source": [
    "mrw=ModelRandomWork(irmodel=ok,index=w1.index,weighter=w,randomwalk=prank,nb_seeds=1000,k=50)## Random walk mesure is \n",
    "# rank_mrw_58=mrw.getRanking(gq.queries['58'].text)"
   ]
  },
  {
   "cell_type": "code",
   "execution_count": 238,
   "metadata": {
    "collapsed": false
   },
   "outputs": [
    {
     "name": "stdout",
     "output_type": "stream",
     "text": [
      "<index.Index instance at 0x174df3ef0>\n"
     ]
    }
   ],
   "source": [
    "rank_mrw_ok_58=mrw.getRanking(gq.queries['58'].text)"
   ]
  },
  {
   "cell_type": "code",
   "execution_count": null,
   "metadata": {
    "collapsed": true
   },
   "outputs": [],
   "source": []
  },
  {
   "cell_type": "markdown",
   "metadata": {},
   "source": [
    "### 6. Model Evaluation"
   ]
  },
  {
   "cell_type": "markdown",
   "metadata": {},
   "source": [
    "<li>PrecisionRecall</li>\n",
    "<li>MeanPrecision</li>\n",
    "<li>EvalIRModel</li>"
   ]
  },
  {
   "cell_type": "code",
   "execution_count": 15,
   "metadata": {
    "collapsed": true
   },
   "outputs": [],
   "source": [
    "pr=PrecisionRecall(10)\n",
    "pm=PrecisionMean()"
   ]
  },
  {
   "cell_type": "code",
   "execution_count": 154,
   "metadata": {
    "collapsed": false
   },
   "outputs": [],
   "source": [
    "irl=IRList(gq.queries['58'],rank_v_58)\n",
    "irl2=IRList(gq.queries['58'],rank_lm_58)\n",
    "irl3=IRList(gq.queries['58'],rank_ok_58)\n",
    "irl4=IRList(gq.queries['58'],rank_mrw_58)\n",
    "irl6=IRList(gq.queries['58'],rank_vn_58)"
   ]
  },
  {
   "cell_type": "code",
   "execution_count": 240,
   "metadata": {
    "collapsed": false
   },
   "outputs": [],
   "source": [
    "# irl7=IRList(gq.queries['58'],rank_mrw_ok_58)\n",
    "# pr.eval(irl7)"
   ]
  },
  {
   "cell_type": "code",
   "execution_count": 155,
   "metadata": {
    "collapsed": false
   },
   "outputs": [
    {
     "data": {
      "text/plain": [
       "<matplotlib.legend.Legend at 0x1513b3610>"
      ]
     },
     "execution_count": 155,
     "metadata": {},
     "output_type": "execute_result"
    },
    {
     "data": {
      "image/png": "[encoded data removed]",
      "text/plain": [
       "<matplotlib.figure.Figure at 0x150f3b410>"
      ]
     },
     "metadata": {},
     "output_type": "display_data"
    }
   ],
   "source": [
    "plt.plot()\n",
    "pr.eval(irl)\n",
    "pr.eval(irl2)\n",
    "pr.eval(irl3)\n",
    "pr.eval(irl4)\n",
    "pr.eval(irl5)\n",
    "pr.eval(irl6)\n",
    "plt.title(\"Precision-Recall\")\n",
    "plt.xlabel(\"recall\")\n",
    "plt.ylabel(\"precision\")\n",
    "plt.legend(['vector','lm','ok','graphe','combine v & lm','vn'])"
   ]
  },
  {
   "cell_type": "code",
   "execution_count": 235,
   "metadata": {
    "collapsed": false
   },
   "outputs": [
    {
     "data": {
      "text/plain": [
       "<matplotlib.legend.Legend at 0x175864e10>"
      ]
     },
     "execution_count": 235,
     "metadata": {},
     "output_type": "execute_result"
    },
    {
     "data": {
      "image/png": "[encoded data removed]",
      "text/plain": [
       "<matplotlib.figure.Figure at 0x17497e650>"
      ]
     },
     "metadata": {},
     "output_type": "display_data"
    }
   ],
   "source": [
    "pm.eval(irl)\n",
    "pm.eval(irl2)\n",
    "pm.eval(irl3)\n",
    "pm.eval(irl4)\n",
    "pm.eval(irl5)\n",
    "plt.title('Precision Mean')\n",
    "plt.xlabel(\"nb_relevants\")\n",
    "plt.ylabel(\"precision Mean\")\n",
    "plt.legend(['vector','lm','ok','graphe','combine v & lm'],bbox_to_anchor=(1.5, 1))"
   ]
  },
  {
   "cell_type": "code",
   "execution_count": 125,
   "metadata": {
    "collapsed": false,
    "scrolled": true
   },
   "outputs": [
    {
     "name": "stdout",
     "output_type": "stream",
     "text": [
      "Vector Model execution time: 2.33007788658\n"
     ]
    }
   ],
   "source": [
    "from queryparser import EvalIRModel\n",
    "t0=time.time()\n",
    "er=EvalIRModel(model=v,evalu='pr') ## Model is Vectoriel/ language/ okapi/combination; evalution mesure:\n",
    "result_v=er.eveluation(gq.queries)\n",
    "t=time.time()-t0\n",
    "print \"Vector Model execution time:\",t"
   ]
  },
  {
   "cell_type": "code",
   "execution_count": 189,
   "metadata": {
    "collapsed": false
   },
   "outputs": [
    {
     "name": "stdout",
     "output_type": "stream",
     "text": [
      "Language Model execution time: 638.014038086\n"
     ]
    }
   ],
   "source": [
    "from queryparser import EvalIRModel\n",
    "t0=time.time()\n",
    "er=EvalIRModel(model=lm,evalu='pr') ## Model is Vectoriel/ language/ okapi/combination; evalution mesure:\n",
    "result_lm=er.eveluation(gq.queries)\n",
    "t=time.time()-t0\n",
    "print \"Language Model execution time:\",t"
   ]
  },
  {
   "cell_type": "code",
   "execution_count": 190,
   "metadata": {
    "collapsed": false
   },
   "outputs": [
    {
     "name": "stdout",
     "output_type": "stream",
     "text": [
      "Okapi Model execution time: 714.929833889\n"
     ]
    }
   ],
   "source": [
    "from queryparser import EvalIRModel\n",
    "t0=time.time()\n",
    "er=EvalIRModel(model=ok,evalu='pr') ## Model is Vectoriel/ language/ okapi/combination; evalution mesure:\n",
    "result=er.eveluation(gq.queries)\n",
    "t=time.time()-t0\n",
    "print \"Okapi Model execution time:\",t"
   ]
  },
  {
   "cell_type": "code",
   "execution_count": 193,
   "metadata": {
    "collapsed": false
   },
   "outputs": [
    {
     "data": {
      "text/plain": [
       "<matplotlib.legend.Legend at 0x165c79cd0>"
      ]
     },
     "execution_count": 193,
     "metadata": {},
     "output_type": "execute_result"
    },
    {
     "data": {
      "image/png": "[encoded data removed]",
      "text/plain": [
       "<matplotlib.figure.Figure at 0x165c96310>"
      ]
     },
     "metadata": {},
     "output_type": "display_data"
    }
   ],
   "source": [
    "x=np.arange(0.1,1.1,0.1)\n",
    "plt.plot(x,result_v[0],'-''o')\n",
    "plt.plot(x,result_lm[0],'-''o')\n",
    "plt.plot(x,result[0],'-''o')\n",
    "plt.plot(x,result_lmm_all[0],'-''o')\n",
    "\n",
    "\n",
    "plt.title('Model Evaluation')\n",
    "plt.xlabel(\"recall\")\n",
    "plt.ylabel(\"precision\")\n",
    "plt.legend(['v t=1.9s','lm t=638s','ok t=714s','combine v&lm t=515s'])"
   ]
  },
  {
   "cell_type": "code",
   "execution_count": 201,
   "metadata": {
    "collapsed": false
   },
   "outputs": [],
   "source": [
    "# from gridsearch import*\n",
    "# gs=GridSearch(irmodel='okapi',evalmeasure='pr',queries=train_queries)\n",
    "# gs.optimisation()"
   ]
  },
  {
   "cell_type": "code",
   "execution_count": 183,
   "metadata": {
    "collapsed": false,
    "scrolled": true
   },
   "outputs": [
    {
     "data": {
      "text/plain": [
       "<matplotlib.legend.Legend at 0x173f98a10>"
      ]
     },
     "execution_count": 183,
     "metadata": {},
     "output_type": "execute_result"
    },
    {
     "data": {
      "image/png": "[encoded data removed]",
      "text/plain": [
       "<matplotlib.figure.Figure at 0x173e7ebd0>"
      ]
     },
     "metadata": {},
     "output_type": "display_data"
    }
   ],
   "source": [
    "x=np.arange(0.1,1.1,0.1)\n",
    "plt.plot(x,result_v[0],'-''o')\n",
    "plt.plot(x,result_lm[0],'-''o')\n",
    "plt.plot(x,result[0],'-''o')\n",
    "plt.plot(x,result_lmm_all[0],'-''o')\n",
    "\n",
    "\n",
    "plt.title('Model Evaluation')\n",
    "plt.xlabel(\"recall\")\n",
    "plt.ylabel(\"precision\")\n",
    "plt.legend(['v t=1.9s','lm t=638s','ok t=714s',])"
   ]
  },
  {
   "cell_type": "markdown",
   "metadata": {},
   "source": [
    "### 7. Combination"
   ]
  },
  {
   "cell_type": "markdown",
   "metadata": {},
   "source": [
    "<li>Feature</li>\n",
    "<li>FeatureDoc</li>\n",
    "<li>FeatureQuery</li>\n",
    "<li>FeatureModel</li>\n",
    "<li>FeatureList</li>\n",
    "<li>Meta Model</li>"
   ]
  },
  {
   "cell_type": "code",
   "execution_count": 70,
   "metadata": {
    "collapsed": false,
    "scrolled": true
   },
   "outputs": [],
   "source": [
    "from combination import *"
   ]
  },
  {
   "cell_type": "code",
   "execution_count": 77,
   "metadata": {
    "collapsed": false
   },
   "outputs": [],
   "source": [
    "fm=FeaturerModel(model=v,weighter=w1,index=i)\n",
    "fm2=FeaturerModel(model=lm,weighter=w1,index=i)\n",
    "featurers=[fm,fm2]\n",
    "fl=FeaturerList(featurers)"
   ]
  },
  {
   "cell_type": "code",
   "execution_count": null,
   "metadata": {
    "collapsed": true
   },
   "outputs": [],
   "source": [
    "lmm.sgd[]"
   ]
  },
  {
   "cell_type": "code",
   "execution_count": 82,
   "metadata": {
    "collapsed": false
   },
   "outputs": [],
   "source": [
    "lmm=LinearMetaModel(i,fl)\n",
    "lmm.sgd(gq.queries)"
   ]
  },
  {
   "cell_type": "code",
   "execution_count": 79,
   "metadata": {
    "collapsed": false
   },
   "outputs": [
    {
     "name": "stdout",
     "output_type": "stream",
     "text": [
      "Calculate time is: 0.150146007538\n"
     ]
    }
   ],
   "source": [
    "rank_lmm_58=lmm.getRanking(gq.queries['58'].text)"
   ]
  },
  {
   "cell_type": "code",
   "execution_count": 130,
   "metadata": {
    "collapsed": false
   },
   "outputs": [],
   "source": [
    "# irl5=IRList(gq.queries['58'],rank_lmm_58)\n",
    "# pr.eval(irl5)"
   ]
  },
  {
   "cell_type": "code",
   "execution_count": 171,
   "metadata": {
    "collapsed": false
   },
   "outputs": [],
   "source": [
    "from sklearn.cross_validation import train_test_split\n",
    "train_indice,test_indice=train_test_split(gq.queries.keys(),test_size=0.3)\n",
    "# train \n",
    "train_queries={}\n",
    "test_queries={}\n",
    "for key in train_indice:\n",
    "    train_queries[key]=gq.queries[key]\n",
    "for key in test_indice:\n",
    "    test_queries[key]=gq.queries[key]"
   ]
  },
  {
   "cell_type": "code",
   "execution_count": 227,
   "metadata": {
    "collapsed": false
   },
   "outputs": [],
   "source": [
    "lmm_1=lmm=LinearMetaModel(index=i,featurerlist=fl)"
   ]
  },
  {
   "cell_type": "code",
   "execution_count": 228,
   "metadata": {
    "collapsed": false
   },
   "outputs": [],
   "source": [
    "# sgd_resul=lmm.sgd(gq.queries)\n",
    "# loss=[]\n",
    "# for i in range(100):\n",
    "#     loss.append(lmm.sgd(gq.queries)[1])"
   ]
  },
  {
   "cell_type": "code",
   "execution_count": 229,
   "metadata": {
    "collapsed": false
   },
   "outputs": [],
   "source": [
    "# plt.plot(loss)"
   ]
  },
  {
   "cell_type": "code",
   "execution_count": 220,
   "metadata": {
    "collapsed": false
   },
   "outputs": [
    {
     "data": {
      "text/plain": [
       "array([ 0.00010999,  0.00017345])"
      ]
     },
     "execution_count": 220,
     "metadata": {},
     "output_type": "execute_result"
    }
   ],
   "source": [
    "sgd_resul[0]"
   ]
  },
  {
   "cell_type": "code",
   "execution_count": 187,
   "metadata": {
    "collapsed": false
   },
   "outputs": [
    {
     "name": "stdout",
     "output_type": "stream",
     "text": [
      "Combined Model execution time: 515.236597061\n"
     ]
    }
   ],
   "source": [
    "t0=time.time()\n",
    "er=EvalIRModel(model=lmm,evalu='pr') ## Model is Vectoriel/ language/ okapi/combination; evalution mesure:\n",
    "result_lmm_all=er.eveluation(gq.queries)\n",
    "t=time.time()-t0\n",
    "print \"Combined Model execution time:\",t"
   ]
  },
  {
   "cell_type": "code",
   "execution_count": 176,
   "metadata": {
    "collapsed": false
   },
   "outputs": [],
   "source": [
    "er=EvalIRModel(model=lmm,evalu='pr') ## Model is Vectoriel/ language/ okapi/combination; evalution mesure:\n",
    "result_lmm=er.eveluation(test_queries)"
   ]
  },
  {
   "cell_type": "code",
   "execution_count": 184,
   "metadata": {
    "collapsed": false
   },
   "outputs": [
    {
     "data": {
      "text/plain": [
       "<matplotlib.legend.Legend at 0x173f24150>"
      ]
     },
     "execution_count": 184,
     "metadata": {},
     "output_type": "execute_result"
    },
    {
     "data": {
      "image/png": "[encoded data removed]",
      "text/plain": [
       "<matplotlib.figure.Figure at 0x173e7e4d0>"
      ]
     },
     "metadata": {},
     "output_type": "display_data"
    }
   ],
   "source": [
    "x=np.arange(0.1,1.1,0.1)\n",
    "plt.plot(x,result_lmm[0],'-''o')\n",
    "plt.title('Model Evaluation on Test queries')\n",
    "plt.xlabel(\"recall\")\n",
    "plt.ylabel(\"precision\")\n",
    "plt.legend(['combine v & lm'])"
   ]
  },
  {
   "cell_type": "code",
   "execution_count": null,
   "metadata": {
    "collapsed": true
   },
   "outputs": [],
   "source": [
    "w=WeighterTfTf()\n",
    "w.construct()\n",
    "i=Index()\n",
    "i.indexation()\n",
    "m=Vectoriel(weighter=w)\n",
    "m.construct()\n",
    "m.WeightsNormfordocs()\n",
    "w1=WeighterLogtfIdf()\n",
    "w1.construct()\n",
    "fm=FeaturerModel(model=m,weighter=w,index=i)\n",
    "fm2=FeaturerModel(model=m,weighter=w1,index=i)\n",
    "featurers=[fm,fm2]\n",
    "fl=FeaturerList(featurers)"
   ]
  }
 ],
 "metadata": {
  "kernelspec": {
   "display_name": "Python 2",
   "language": "python",
   "name": "python2"
  },
  "language_info": {
   "codemirror_mode": {
    "name": "ipython",
    "version": 2
   },
   "file_extension": ".py",
   "mimetype": "text/x-python",
   "name": "python",
   "nbconvert_exporter": "python",
   "pygments_lexer": "ipython2",
   "version": "2.7.11"
  }
 },
 "nbformat": 4,
 "nbformat_minor": 0
}
