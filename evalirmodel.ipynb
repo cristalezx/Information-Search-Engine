{
 "cells": [
  {
   "cell_type": "code",
   "execution_count": 1,
   "metadata": {
    "collapsed": true
   },
   "outputs": [],
   "source": [
    "class EvalIRModel:\n",
    "#     model: deifferent model instance of research on all the queries\n",
    "#     evelu: different evaluation mesure \"pr\"=precision-recall or \"pm\"=precision moyenne\n",
    "    def __init__(self,model,evalu=\"pr\"):\n",
    "        self.model=model\n",
    "        self.evalu=evalu\n",
    "    def eveluation (self,queries):\n",
    "#         queries in created by querycacm\n",
    "        results=[]\n",
    "\n",
    "        for id_query in queries.keys():\n",
    "            query=queries[id_query]\n",
    "            if query.relevants !=None:\n",
    "                self.model.getRanking(query.text)\n",
    "                irlist=IRList(query,v.getRanking(query.text))\n",
    "                nblevels=1\n",
    "                if self.evalu=='pr':    \n",
    "                    mesure = PrecisionRecall(10)\n",
    "                    nblevels=mesure.nbLevels\n",
    "                elif self.evalu=='pm':\n",
    "                    mesure = PrecisionMean()   \n",
    "                results.append(mesure.eval(irlist))\n",
    "\n",
    "        if self.evalu=='pr':\n",
    "            self.mean=np.mean(results,axis=0)\n",
    "            self.std=np.std(results,axis=0)                                       \n",
    "            \n",
    "        else:\n",
    "            self.mean=np.mean(results)\n",
    "            self.std=np.std(results)\n",
    "        return self.mean,self.std"
   ]
  },
  {
   "cell_type": "code",
   "execution_count": null,
   "metadata": {
    "collapsed": true
   },
   "outputs": [],
   "source": []
  }
 ],
 "metadata": {
  "kernelspec": {
   "display_name": "Python 2",
   "language": "python",
   "name": "python2"
  },
  "language_info": {
   "codemirror_mode": {
    "name": "ipython",
    "version": 2
   },
   "file_extension": ".py",
   "mimetype": "text/x-python",
   "name": "python",
   "nbconvert_exporter": "python",
   "pygments_lexer": "ipython2",
   "version": "2.7.11"
  }
 },
 "nbformat": 4,
 "nbformat_minor": 0
}
