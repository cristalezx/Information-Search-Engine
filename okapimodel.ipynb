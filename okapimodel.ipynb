{
 "cells": [
  {
   "cell_type": "markdown",
   "metadata": {},
   "source": [
    "### Note : 修改 L_mean=calmean"
   ]
  },
  {
   "cell_type": "code",
   "execution_count": 2,
   "metadata": {
    "collapsed": false
   },
   "outputs": [],
   "source": [
    "from weighter import *\n",
    "from index import *\n",
    "from irmodel import *\n",
    "class OkapiModel(IRmodel):\n",
    "    def __init__(self,k1=1,b=0.75,weighter=Weighter()):\n",
    "        self.k1=k1\n",
    "        self.b=b\n",
    "        IRmodel.__init__(self,weighter)\n",
    "    def prepare(self):\n",
    "        L=0\n",
    "        self.N=len(self.weighter.index.docs) \n",
    "        self.tf_docs={}\n",
    "        self.df_t={}\n",
    "        for doc_id in self.weighter.index.docs.keys():\n",
    "            tf_doc=self.weighter.getDocWeightsForDoc(doc_id)\n",
    "            self.tf_docs[doc_id]=tf_doc\n",
    "            L+=np.sum(tf_doc.values())\n",
    "        self.L_mean=1.*L/self.N\n",
    "        for term in self.weighter.index.stems.keys():\n",
    "            self.df_t[term]=len(self.weighter.getDocWeightsForStem(term)) \n",
    "        return self\n",
    "      \n",
    "    def getScores(self,query):\n",
    "        weights_query=self.weighter.getWeigtsForQuery(query)          \n",
    "        self.scores={}\n",
    "        for doc_id in self.weighter.index.docs.keys():\n",
    "            tf_d=self.tf_docs[doc_id]\n",
    "            L_d=np.sum(tf_d.values())\n",
    "            f_dq=0.\n",
    "            for t in weights_query.keys():\n",
    "                 if t in self.weighter.index.stems.keys():\n",
    "                        df_t=self.df_t[t]\n",
    "                        idf=max(0,np.log(1.*(self.N-df_t+0.5)/(df_t+0.5)))  \n",
    "                        if t in tf_d.keys():             \n",
    "                            f_dq+=idf*((self.k1+1)*tf_d[t])/((1.-self.b+self.b*L_d/self.L_mean)*self.k1+tf_d[t])\n",
    "                        else:\n",
    "                            f_dq+=0\n",
    "            self.scores[doc_id]=f_dq\n",
    "        return self.scores"
   ]
  },
  {
   "cell_type": "code",
   "execution_count": 3,
   "metadata": {
    "collapsed": false
   },
   "outputs": [],
   "source": [
    "from irmodel import *\n",
    "from weighter import *\n",
    "ok=OkapiModel(weighter=WeighterTfTf())"
   ]
  },
  {
   "cell_type": "code",
   "execution_count": 4,
   "metadata": {
    "collapsed": false
   },
   "outputs": [
    {
     "data": {
      "text/plain": [
       "<index.Index instance at 0x10e121c68>"
      ]
     },
     "execution_count": 4,
     "metadata": {},
     "output_type": "execute_result"
    }
   ],
   "source": [
    "i=Index()\n",
    "i.indexation()"
   ]
  },
  {
   "cell_type": "code",
   "execution_count": null,
   "metadata": {
    "collapsed": false
   },
   "outputs": [],
   "source": [
    "i.stems['orthogon']"
   ]
  },
  {
   "cell_type": "code",
   "execution_count": 5,
   "metadata": {
    "collapsed": false
   },
   "outputs": [
    {
     "data": {
      "text/plain": [
       "<__main__.OkapiModel instance at 0x10e121ab8>"
      ]
     },
     "execution_count": 5,
     "metadata": {},
     "output_type": "execute_result"
    }
   ],
   "source": [
    "ok.construct()\n",
    "ok.prepare()"
   ]
  },
  {
   "cell_type": "code",
   "execution_count": null,
   "metadata": {
    "collapsed": false
   },
   "outputs": [
    {
     "name": "stdout",
     "output_type": "stream",
     "text": [
      "12.8381640911\n",
      "13.2025899887\n",
      "6.71595096588\n",
      "18.6297140121\n",
      "12.643376112\n",
      "29.1284348965\n",
      "20.8235168457\n",
      "9.97141003609\n",
      "5.21095705032\n",
      "7.9364759922\n",
      "7.87585496902\n",
      "4.35961604118\n",
      "19.9517431259\n",
      "3.93064498901\n",
      "5.42506098747\n",
      "5.89667892456\n",
      "5.14006090164\n",
      "5.62670087814\n",
      "7.85921907425\n",
      "12.4020569324\n",
      "4.67615008354\n",
      "14.2378342152\n",
      "18.2530519962\n",
      "6.11460018158\n",
      "16.9776630402\n",
      "10.7259471416\n",
      "9.62145400047\n",
      "20.5446679592\n",
      "29.746997118\n",
      "13.2147419453\n",
      "9.18382191658\n",
      "11.5221168995\n",
      "21.6927390099\n",
      "25.4525930882\n",
      "20.9571831226\n",
      "12.064770937\n",
      "9.04490494728\n",
      "7.00141811371\n",
      "4.75793099403\n",
      "14.5432789326"
     ]
    }
   ],
   "source": [
    "for q in gq.queries:\n",
    "    t0=time.time()\n",
    "    ok.getScores(gq.queries[q].text) \n",
    "    print time.time()-t0"
   ]
  },
  {
   "cell_type": "code",
   "execution_count": null,
   "metadata": {
    "collapsed": false
   },
   "outputs": [],
   "source": [
    "ok.getScores('love eat ')"
   ]
  },
  {
   "cell_type": "code",
   "execution_count": 7,
   "metadata": {
    "collapsed": false
   },
   "outputs": [
    {
     "data": {
      "text/plain": [
       "{'1': <queryparser.Query instance at 0x110434638>,\n",
       " '10': <queryparser.Query instance at 0x11049bdd0>,\n",
       " '11': <queryparser.Query instance at 0x11049b3b0>,\n",
       " '12': <queryparser.Query instance at 0x11049b908>,\n",
       " '13': <queryparser.Query instance at 0x11049b440>,\n",
       " '14': <queryparser.Query instance at 0x11049bf80>,\n",
       " '15': <queryparser.Query instance at 0x11049b830>,\n",
       " '16': <queryparser.Query instance at 0x11049b5f0>,\n",
       " '17': <queryparser.Query instance at 0x11049b758>,\n",
       " '18': <queryparser.Query instance at 0x11049bbd8>,\n",
       " '19': <queryparser.Query instance at 0x11049b170>,\n",
       " '2': <queryparser.Query instance at 0x110431c68>,\n",
       " '20': <queryparser.Query instance at 0x11049bb48>,\n",
       " '21': <queryparser.Query instance at 0x11049b1b8>,\n",
       " '22': <queryparser.Query instance at 0x10ffeab90>,\n",
       " '23': <queryparser.Query instance at 0x10ffeaa70>,\n",
       " '24': <queryparser.Query instance at 0x10ffea2d8>,\n",
       " '25': <queryparser.Query instance at 0x10ffea518>,\n",
       " '26': <queryparser.Query instance at 0x10ffea638>,\n",
       " '27': <queryparser.Query instance at 0x10ffeacb0>,\n",
       " '28': <queryparser.Query instance at 0x10ffea290>,\n",
       " '29': <queryparser.Query instance at 0x10ffea488>,\n",
       " '3': <queryparser.Query instance at 0x110431518>,\n",
       " '30': <queryparser.Query instance at 0x11049c5a8>,\n",
       " '31': <queryparser.Query instance at 0x11049c6c8>,\n",
       " '32': <queryparser.Query instance at 0x11049c2d8>,\n",
       " '33': <queryparser.Query instance at 0x11049cc20>,\n",
       " '34': <queryparser.Query instance at 0x11049c1b8>,\n",
       " '35': <queryparser.Query instance at 0x11049cd40>,\n",
       " '36': <queryparser.Query instance at 0x11049c290>,\n",
       " '37': <queryparser.Query instance at 0x11049c830>,\n",
       " '38': <queryparser.Query instance at 0x11049c170>,\n",
       " '39': <queryparser.Query instance at 0x11049c710>,\n",
       " '4': <queryparser.Query instance at 0x11049bab8>,\n",
       " '40': <queryparser.Query instance at 0x11049cb48>,\n",
       " '41': <queryparser.Query instance at 0x11049c320>,\n",
       " '42': <queryparser.Query instance at 0x11049c878>,\n",
       " '43': <queryparser.Query instance at 0x11049cd88>,\n",
       " '44': <queryparser.Query instance at 0x11042a5f0>,\n",
       " '45': <queryparser.Query instance at 0x11042abd8>,\n",
       " '46': <queryparser.Query instance at 0x11042a4d0>,\n",
       " '47': <queryparser.Query instance at 0x11042afc8>,\n",
       " '48': <queryparser.Query instance at 0x11042a638>,\n",
       " '49': <queryparser.Query instance at 0x11042ab90>,\n",
       " '5': <queryparser.Query instance at 0x11049b368>,\n",
       " '50': <queryparser.Query instance at 0x11042a098>,\n",
       " '51': <queryparser.Query instance at 0x11042a758>,\n",
       " '52': <queryparser.Query instance at 0x11042a290>,\n",
       " '53': <queryparser.Query instance at 0x11042a830>,\n",
       " '54': <queryparser.Query instance at 0x11042a680>,\n",
       " '55': <queryparser.Query instance at 0x11042acb0>,\n",
       " '56': <queryparser.Query instance at 0x11042ad88>,\n",
       " '57': <queryparser.Query instance at 0x11042a6c8>,\n",
       " '58': <queryparser.Query instance at 0x110483320>,\n",
       " '59': <queryparser.Query instance at 0x110483ea8>,\n",
       " '6': <queryparser.Query instance at 0x11049b518>,\n",
       " '60': <queryparser.Query instance at 0x110483b48>,\n",
       " '61': <queryparser.Query instance at 0x110483e18>,\n",
       " '62': <queryparser.Query instance at 0x110483170>,\n",
       " '63': <queryparser.Query instance at 0x110483d88>,\n",
       " '64': <queryparser.Query instance at 0x1104835a8>,\n",
       " '7': <queryparser.Query instance at 0x11049bc68>,\n",
       " '8': <queryparser.Query instance at 0x11049bb00>,\n",
       " '9': <queryparser.Query instance at 0x11049b128>}"
      ]
     },
     "execution_count": 7,
     "metadata": {},
     "output_type": "execute_result"
    }
   ],
   "source": [
    "from queryparser import *\n",
    "gq=QueryCACM()\n",
    "gq.relevants()\n",
    "gq.Querycacm()\n",
    "gq.queries"
   ]
  },
  {
   "cell_type": "code",
   "execution_count": null,
   "metadata": {
    "collapsed": true
   },
   "outputs": [],
   "source": []
  }
 ],
 "metadata": {
  "kernelspec": {
   "display_name": "Python 2",
   "language": "python",
   "name": "python2"
  },
  "language_info": {
   "codemirror_mode": {
    "name": "ipython",
    "version": 2
   },
   "file_extension": ".py",
   "mimetype": "text/x-python",
   "name": "python",
   "nbconvert_exporter": "python",
   "pygments_lexer": "ipython2",
   "version": "2.7.11"
  }
 },
 "nbformat": 4,
 "nbformat_minor": 0
}
