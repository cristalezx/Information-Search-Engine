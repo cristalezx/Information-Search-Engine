{
 "cells": [
  {
   "cell_type": "code",
   "execution_count": null,
   "metadata": {
    "collapsed": true
   },
   "outputs": [],
   "source": []
  },
  {
   "cell_type": "code",
   "execution_count": 1,
   "metadata": {
    "collapsed": true
   },
   "outputs": [],
   "source": [
    "import ParserCACM\n",
    "from Parser import Parser\n",
    "from porter import stem\n",
    "from ParserCACM import ParserCACM"
   ]
  },
  {
   "cell_type": "code",
   "execution_count": 3,
   "metadata": {
    "collapsed": true
   },
   "outputs": [],
   "source": [
    "'''\n",
    "Created on 6 sept. 2016\n",
    "\n",
    "@author: SL\n",
    "'''\n",
    "from Parser import Parser\n",
    "from Document import Document\n",
    "#===============================================================================\n",
    "# /**\n",
    "#  * \n",
    "#  * Format of input files :\n",
    "#  * .I <id>\n",
    "#  * .A <Author>\n",
    "#  * .W\n",
    "#  * <Text>\n",
    "\n",
    "#===============================================================================\n",
    "class QueryParser(Parser):\n",
    "    def __init__(self):\n",
    "        '''\n",
    "        Constructor\n",
    "        '''\n",
    "        Parser.__init__(self,\".I\")\n",
    "    \n",
    "    def getDocument(self,text):\n",
    "        other={};\n",
    "        modeA=False;\n",
    "        modeW=False;\n",
    "        info=\"\"\n",
    "        identifier=\"\"\n",
    "        author=\"\"\n",
    "        texte=\"\"\n",
    "        \n",
    "        st=text.split(\"\\n\");\n",
    "        s=\"\"\n",
    "        for s in st:\n",
    "            if(s.startswith(\".I\")):\n",
    "                identifier=s[3:]\n",
    "                continue\n",
    "            \n",
    "            if(s.startswith(\".\")):\n",
    "                if(modeW):\n",
    "                    texte=info\n",
    "                    info=\"\"\n",
    "                    modeW=False\n",
    "                \n",
    "                if(modeA):\n",
    "                    author=info\n",
    "                    info=\"\"\n",
    "                    modeA=False;         \n",
    "            \n",
    "            if(s.startswith(\".W\")):\n",
    "                modeW=True;\n",
    "                info=s[2:];\n",
    "                continue;\n",
    "            \n",
    "            if(s.startswith(\".A\")):\n",
    "                modeA=True;\n",
    "                info=s[2:];\n",
    "                continue;\n",
    "            \n",
    "            if((modeW) or (modeA)):\n",
    "                #print \"add \"+s\n",
    "                info+=\" \"+s\n",
    "               \n",
    "    \n",
    "        if(modeW):\n",
    "            texte=info;\n",
    "            info=\"\";\n",
    "            modeW=False;\n",
    "        \n",
    "        if(modeA):\n",
    "            author=info;\n",
    "            info=\"\";\n",
    "            modeA=False;\n",
    "\n",
    "        other[\"text\"]=texte[4:]\n",
    "        doc=Document(identifier,texte[2:],other);\n",
    "        return doc\n",
    "    def getrelevants(self):\n",
    "        f=open(\"cacm/cacm.rel\")\n",
    "        "
   ]
  },
  {
   "cell_type": "code",
   "execution_count": null,
   "metadata": {
    "collapsed": true
   },
   "outputs": [],
   "source": []
  }
 ],
 "metadata": {
  "kernelspec": {
   "display_name": "Python 2",
   "language": "python",
   "name": "python2"
  },
  "language_info": {
   "codemirror_mode": {
    "name": "ipython",
    "version": 2
   },
   "file_extension": ".py",
   "mimetype": "text/x-python",
   "name": "python",
   "nbconvert_exporter": "python",
   "pygments_lexer": "ipython2",
   "version": "2.7.11"
  }
 },
 "nbformat": 4,
 "nbformat_minor": 0
}
