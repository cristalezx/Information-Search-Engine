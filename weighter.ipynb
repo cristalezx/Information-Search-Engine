{
 "cells": [
  {
   "cell_type": "code",
   "execution_count": 49,
   "metadata": {
    "collapsed": false
   },
   "outputs": [],
   "source": [
    "# import import_ipynb\n",
    "import numpy as np\n",
    "from Parser import Parser\n",
    "from Document import Document\n",
    "from porter import stem\n",
    "from ParserCACM import ParserCACM\n",
    "from TextRepresenter import TextRepresenter,PorterStemmer"
   ]
  },
  {
   "cell_type": "code",
   "execution_count": 2,
   "metadata": {
    "collapsed": false
   },
   "outputs": [],
   "source": [
    "from index import Index"
   ]
  },
  {
   "cell_type": "code",
   "execution_count": 17,
   "metadata": {
    "collapsed": true
   },
   "outputs": [],
   "source": [
    "class Weighter: \n",
    "    def __init__(self,index=Index()):\n",
    "        self.index=index\n",
    "    def construct(self):\n",
    "        self.index.indexation()\n",
    "        return self\n",
    "    def getDocWeightsForDoc(self,doc_id):\n",
    "        raise NotImplementedError(\"This is a abstract class!\")\n",
    "    def getDocWeightsForStem(self,stem):\n",
    "        raise NotImplementedError(\"This is a abstract class!\")      \n",
    "    def getWeigtsForQuery(self,query):\n",
    "        raise NotImplementedError(\"This is a abstract class!\")"
   ]
  },
  {
   "cell_type": "code",
   "execution_count": 19,
   "metadata": {
    "collapsed": true
   },
   "outputs": [],
   "source": [
    "class WeighterTf1(Weighter):\n",
    "    def __init__(self):\n",
    "        Weighter.__init__(self)\n",
    "    def getDocWeightsForDoc(self,doc_id):\n",
    "        return self.index.getTfsForDoc(doc_id)\n",
    "    def getDocWeightsForStem(self,stem):\n",
    "        return self.index.getTfsForStem(stem)           \n",
    "    def getWeigtsForQuery(self,query):\n",
    "        ps=PorterStemmer()\n",
    "        self.Weights_Query={}.fromkeys(ps.getTextRepresentation(query).keys(),1) \n",
    "        return self.Weights_Query"
   ]
  },
  {
   "cell_type": "code",
   "execution_count": 26,
   "metadata": {
    "collapsed": false
   },
   "outputs": [],
   "source": [
    "class WeighterTfTf(Weighter):\n",
    "    def __init__(self):\n",
    "        Weighter.__init__(self)\n",
    "    def getDocWeightsForDoc(self,doc_id):\n",
    "        return self.index.getTfsForDoc(doc_id)\n",
    "    def getDocWeightsForStem(self,stem):\n",
    "        return self.index.getTfsForStem(stem)           \n",
    "    def getWeigtsForQuery(self,query):\n",
    "        ps=PorterStemmer()\n",
    "        return ps.getTextRepresentation(query)\n",
    "    "
   ]
  },
  {
   "cell_type": "code",
   "execution_count": 53,
   "metadata": {
    "collapsed": false
   },
   "outputs": [],
   "source": [
    "class WeighterTfIdf(Weighter):\n",
    "    def __init__(self):\n",
    "        Weighter.__init__(self)\n",
    "    def getDocWeightsForDoc(self,doc_id):\n",
    "        return self.index.getTfsForDoc(doc_id)\n",
    "    def getDocWeightsForStem(self,stem):\n",
    "        return self.index.getTfsForStem(stem)           \n",
    "    def getWeigtsForQuery(self,query):\n",
    "        ps=PorterStemmer()\n",
    "        nb_doc=len(self.index.docs)   \n",
    "        tf_q=ps.getTextRepresentation(query)      \n",
    "        return {stem:np.log(nb_doc/(1+len(self.index.getTfsForStem(stem)))) for stem in tf_q.keys()}"
   ]
  },
  {
   "cell_type": "code",
   "execution_count": 72,
   "metadata": {
    "collapsed": true
   },
   "outputs": [],
   "source": [
    "class WeighterLogtfIdf(Weighter):\n",
    "    def __init__(self):\n",
    "        Weighter.__init__(self)\n",
    "    def getDocWeightsForDoc(self,doc_id):\n",
    "        tf_d=self.index.getTfsForDoc(doc_id)\n",
    "        return {stem: 1+np.log(tf_d[stem]) for stem in tf_d.keys()}\n",
    "    def getDocWeightsForStem(self,stem):\n",
    "        return self.index.getTfsForStem(stem)           \n",
    "    def getWeigtsForQuery(self,query):\n",
    "        ps=PorterStemmer()\n",
    "        nb_doc=len(self.index.docs)   \n",
    "        tf_q=ps.getTextRepresentation(query)      \n",
    "        return {stem:np.log(nb_doc/(1+len(self.index.getTfsForStem(stem)))) for stem in tf_q.keys()}       "
   ]
  },
  {
   "cell_type": "code",
   "execution_count": 78,
   "metadata": {
    "collapsed": true
   },
   "outputs": [],
   "source": [
    "class WeighterLogtfidfLogtfidf(Weighter):\n",
    "    def __init__(self):\n",
    "        Weighter.__init__(self)\n",
    "    def getDocWeightsForDoc(self,doc_id):\n",
    "        nb_doc=len(self.index.docs)\n",
    "        tf_d=self.index.getTfsForDoc(doc_id)\n",
    "        idf_d={stem:np.log(nb_doc/(1+len(self.index.getTfsForStem(stem)))) for stem in tf_d.keys()}\n",
    "        return {stem: (1+np.log(tf_d[stem]))*idf_d[stem] for stem in tf_d.keys()}\n",
    "    def getDocWeightsForStem(self,stem):\n",
    "        return self.index.getTfsForStem(stem)           \n",
    "    def getWeigtsForQuery(self,query):\n",
    "        ps=PorterStemmer()\n",
    "        nb_doc=len(self.index.docs)  \n",
    "        tf_q=ps.getTextRepresentation(query)\n",
    "        idf_q={stem:np.log(nb_doc/(1+len(self.index.getTfsForStem(stem)))) for stem in tf_q.keys()}        \n",
    "        return {stem: (1+np.log(tf_q[stem]))*idf_q[stem] for stem in tf_q.keys()}\n",
    "       "
   ]
  }
 ],
 "metadata": {
  "kernelspec": {
   "display_name": "Python 2",
   "language": "python",
   "name": "python2"
  },
  "language_info": {
   "codemirror_mode": {
    "name": "ipython",
    "version": 2
   },
   "file_extension": ".py",
   "mimetype": "text/x-python",
   "name": "python",
   "nbconvert_exporter": "python",
   "pygments_lexer": "ipython2",
   "version": "2.7.11"
  }
 },
 "nbformat": 4,
 "nbformat_minor": 0
}
