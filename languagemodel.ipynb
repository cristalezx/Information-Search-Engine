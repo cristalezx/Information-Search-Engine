{
 "cells": [
  {
   "cell_type": "code",
   "execution_count": 15,
   "metadata": {
    "collapsed": false
   },
   "outputs": [],
   "source": [
    "from irmodel import *\n",
    "from weighter import *\n",
    "class LanguageModel(IRmodel):\n",
    "    def __init__(self,lamda=0.5,weighter=Weighter()):\n",
    "        self.lamda=lamda\n",
    "        IRmodel.__init__(self,weighter)\n",
    "    def prepare(self):\n",
    "        self.l_corpus=0\n",
    "        self.tf_docs={}\n",
    "        self.tf_terminc={}\n",
    "        for doc in self.weighter.index.docs.keys():\n",
    "            tf_doc=self.weighter.index.getTfsForDoc(doc)\n",
    "            self.tf_docs[doc]=tf_doc\n",
    "            self.l_corpus+=np.sum(tf_doc.values())\n",
    "        for term in self.weighter.index.stems.keys():\n",
    "            self.tf_terminc[term]=np.sum([ j for (k,j) in self.weighter.getDocWeightsForStem(term).values()[0]])\n",
    "            \n",
    "        return self\n",
    "        \n",
    "        \n",
    "    def getScores(self,query):\n",
    "        scores={}\n",
    "#         pmc pmd\n",
    "        weights_query=self.weighter.getWeigtsForQuery(query)\n",
    "        \n",
    "        for doc_id in self.weighter.index.docs.keys():\n",
    "            tf_d = self.tf_docs[doc_id]\n",
    "            l_d=np.sum(tf_d.values())\n",
    "            f_dq=0\n",
    "            for term in weights_query:\n",
    "                if term in self.weighter.index.stems.keys():\n",
    "#                     tf_terminc   tf of term in all corpus\n",
    "#                     if self.tf_terminc.has_key(term):\n",
    "                    tf_terminc=self.tf_terminc[term]\n",
    "#                     else:\n",
    "#                         tf_terminc=np.sum([ j for (k,j) in self.weighter.getDocWeightsForStem(term).values()[0]])\n",
    "#                         self.tf_terminc[term]=tf_terminc\n",
    "                    pmc=1.*tf_terminc/self.l_corpus\n",
    "                    if term in tf_d:\n",
    "                        f_dq+=weights_query[term]+np.log(self.lamda*tf_d[term]/l_d+(1.-self.lamda)*pmc)\n",
    "                    else:\n",
    "                        f_dq+=weights_query[term]+np.log((1.-self.lamda)*pmc)\n",
    "            scores[doc_id]=f_dq\n",
    "        self.Scores=scores\n",
    "        return self.Scores"
   ]
  },
  {
   "cell_type": "code",
   "execution_count": 1,
   "metadata": {
    "collapsed": false
   },
   "outputs": [
    {
     "data": {
      "text/plain": [
       "<index.Index instance at 0x1047b2908>"
      ]
     },
     "execution_count": 1,
     "metadata": {},
     "output_type": "execute_result"
    }
   ],
   "source": [
    "from index import *\n",
    "i2=Index()\n",
    "i2.indexation()"
   ]
  },
  {
   "cell_type": "code",
   "execution_count": 5,
   "metadata": {
    "collapsed": false
   },
   "outputs": [],
   "source": [
    "# i2.stems.keys()[-1]\n",
    "# i2.getTfsForStem('emeri')"
   ]
  },
  {
   "cell_type": "code",
   "execution_count": 6,
   "metadata": {
    "collapsed": false
   },
   "outputs": [
    {
     "data": {
      "text/plain": [
       "{'1': <queryparser.Query instance at 0x10afefd40>,\n",
       " '10': <queryparser.Query instance at 0x110c243f8>,\n",
       " '11': <queryparser.Query instance at 0x110c243b0>,\n",
       " '12': <queryparser.Query instance at 0x110c24cf8>,\n",
       " '13': <queryparser.Query instance at 0x110c24368>,\n",
       " '14': <queryparser.Query instance at 0x110c15ab8>,\n",
       " '15': <queryparser.Query instance at 0x110c15b00>,\n",
       " '16': <queryparser.Query instance at 0x110c15a70>,\n",
       " '17': <queryparser.Query instance at 0x110c15b48>,\n",
       " '18': <queryparser.Query instance at 0x110c159e0>,\n",
       " '19': <queryparser.Query instance at 0x110c15c20>,\n",
       " '2': <queryparser.Query instance at 0x10afefe60>,\n",
       " '20': <queryparser.Query instance at 0x110c15b90>,\n",
       " '21': <queryparser.Query instance at 0x110c15710>,\n",
       " '22': <queryparser.Query instance at 0x110c15e60>,\n",
       " '23': <queryparser.Query instance at 0x110c15fc8>,\n",
       " '24': <queryparser.Query instance at 0x110c18b90>,\n",
       " '25': <queryparser.Query instance at 0x110c18368>,\n",
       " '26': <queryparser.Query instance at 0x110c18518>,\n",
       " '27': <queryparser.Query instance at 0x110c181b8>,\n",
       " '28': <queryparser.Query instance at 0x110c18170>,\n",
       " '29': <queryparser.Query instance at 0x110c183f8>,\n",
       " '3': <queryparser.Query instance at 0x10afefea8>,\n",
       " '30': <queryparser.Query instance at 0x110c18488>,\n",
       " '31': <queryparser.Query instance at 0x110c186c8>,\n",
       " '32': <queryparser.Query instance at 0x110c180e0>,\n",
       " '33': <queryparser.Query instance at 0x110c18d88>,\n",
       " '34': <queryparser.Query instance at 0x110c31c20>,\n",
       " '35': <queryparser.Query instance at 0x110c31f80>,\n",
       " '36': <queryparser.Query instance at 0x110c31b90>,\n",
       " '37': <queryparser.Query instance at 0x110c315a8>,\n",
       " '38': <queryparser.Query instance at 0x110c31710>,\n",
       " '39': <queryparser.Query instance at 0x110c31f38>,\n",
       " '4': <queryparser.Query instance at 0x110c24638>,\n",
       " '40': <queryparser.Query instance at 0x110c31ef0>,\n",
       " '41': <queryparser.Query instance at 0x110c31ea8>,\n",
       " '42': <queryparser.Query instance at 0x110c31e60>,\n",
       " '43': <queryparser.Query instance at 0x110c31e18>,\n",
       " '44': <queryparser.Query instance at 0x110c31dd0>,\n",
       " '45': <queryparser.Query instance at 0x110c31d88>,\n",
       " '46': <queryparser.Query instance at 0x110c31d40>,\n",
       " '47': <queryparser.Query instance at 0x110c31cf8>,\n",
       " '48': <queryparser.Query instance at 0x110c31cb0>,\n",
       " '49': <queryparser.Query instance at 0x110c31c68>,\n",
       " '5': <queryparser.Query instance at 0x110c24560>,\n",
       " '50': <queryparser.Query instance at 0x110c31b48>,\n",
       " '51': <queryparser.Query instance at 0x110c31b00>,\n",
       " '52': <queryparser.Query instance at 0x110c31ab8>,\n",
       " '53': <queryparser.Query instance at 0x110c31a70>,\n",
       " '54': <queryparser.Query instance at 0x110c31a28>,\n",
       " '55': <queryparser.Query instance at 0x110c319e0>,\n",
       " '56': <queryparser.Query instance at 0x110c31998>,\n",
       " '57': <queryparser.Query instance at 0x110c31950>,\n",
       " '58': <queryparser.Query instance at 0x110c31908>,\n",
       " '59': <queryparser.Query instance at 0x110c318c0>,\n",
       " '6': <queryparser.Query instance at 0x110c24518>,\n",
       " '60': <queryparser.Query instance at 0x110c31878>,\n",
       " '61': <queryparser.Query instance at 0x110c31830>,\n",
       " '62': <queryparser.Query instance at 0x110c317e8>,\n",
       " '63': <queryparser.Query instance at 0x110c317a0>,\n",
       " '64': <queryparser.Query instance at 0x110c31758>,\n",
       " '7': <queryparser.Query instance at 0x110c244d0>,\n",
       " '8': <queryparser.Query instance at 0x110c24488>,\n",
       " '9': <queryparser.Query instance at 0x110c24440>}"
      ]
     },
     "execution_count": 6,
     "metadata": {},
     "output_type": "execute_result"
    }
   ],
   "source": [
    "from queryparser import *\n",
    "gq=QueryCACM()\n",
    "gq.relevants()\n",
    "gq.Querycacm()\n",
    "# gq.queries"
   ]
  },
  {
   "cell_type": "code",
   "execution_count": 7,
   "metadata": {
    "collapsed": false
   },
   "outputs": [],
   "source": [
    "# for q in gq.queries:\n",
    "#     print q"
   ]
  },
  {
   "cell_type": "code",
   "execution_count": 8,
   "metadata": {
    "collapsed": false
   },
   "outputs": [],
   "source": [
    "# lm.tf_terminc"
   ]
  },
  {
   "cell_type": "code",
   "execution_count": 9,
   "metadata": {
    "collapsed": false
   },
   "outputs": [],
   "source": [
    "# for q in gq.queries:\n",
    "#     print q\n",
    "#     query=gq.queries[q].text\n",
    "#     lm.getScores(query)    "
   ]
  },
  {
   "cell_type": "code",
   "execution_count": 16,
   "metadata": {
    "collapsed": false
   },
   "outputs": [
    {
     "data": {
      "text/plain": [
       "<class weighter.WeighterTfTf at 0x110c9ae88>"
      ]
     },
     "execution_count": 16,
     "metadata": {},
     "output_type": "execute_result"
    }
   ],
   "source": [
    "WeighterTfTf"
   ]
  },
  {
   "cell_type": "code",
   "execution_count": 19,
   "metadata": {
    "collapsed": true
   },
   "outputs": [],
   "source": [
    "lm=LanguageModel(weighter=WeighterTfTf())"
   ]
  },
  {
   "cell_type": "code",
   "execution_count": 20,
   "metadata": {
    "collapsed": true
   },
   "outputs": [],
   "source": [
    "lm.construct()"
   ]
  },
  {
   "cell_type": "code",
   "execution_count": 21,
   "metadata": {
    "collapsed": false
   },
   "outputs": [
    {
     "data": {
      "text/plain": [
       "<__main__.LanguageModel instance at 0x10dae6488>"
      ]
     },
     "execution_count": 21,
     "metadata": {},
     "output_type": "execute_result"
    }
   ],
   "source": [
    "lm.prepare()"
   ]
  },
  {
   "cell_type": "code",
   "execution_count": 23,
   "metadata": {
    "collapsed": true
   },
   "outputs": [],
   "source": [
    "import time"
   ]
  },
  {
   "cell_type": "code",
   "execution_count": null,
   "metadata": {
    "collapsed": false
   },
   "outputs": [
    {
     "name": "stdout",
     "output_type": "stream",
     "text": [
      "9.38664412498\n",
      "10.7321949005\n",
      "8.3635468483\n",
      "15.4956319332\n",
      "8.74322509766\n",
      "22.7810060978"
     ]
    }
   ],
   "source": [
    "for q in gq.queries:\n",
    "    t0=time.time()\n",
    "    lm.getScores(gq.queries[q].text)\n",
    "    print time.time()-t0"
   ]
  }
 ],
 "metadata": {
  "kernelspec": {
   "display_name": "Python 2",
   "language": "python",
   "name": "python2"
  },
  "language_info": {
   "codemirror_mode": {
    "name": "ipython",
    "version": 2
   },
   "file_extension": ".py",
   "mimetype": "text/x-python",
   "name": "python",
   "nbconvert_exporter": "python",
   "pygments_lexer": "ipython2",
   "version": "2.7.11"
  }
 },
 "nbformat": 4,
 "nbformat_minor": 0
}
