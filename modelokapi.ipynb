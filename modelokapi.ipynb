{
 "cells": [
  {
   "cell_type": "code",
   "execution_count": null,
   "metadata": {
    "collapsed": true
   },
   "outputs": [],
   "source": []
  },
  {
   "cell_type": "code",
   "execution_count": 1,
   "metadata": {
    "collapsed": false
   },
   "outputs": [
    {
     "ename": "SyntaxError",
     "evalue": "invalid syntax (<ipython-input-1-d07800af0c5f>, line 15)",
     "output_type": "error",
     "traceback": [
      "\u001b[0;36m  File \u001b[0;32m\"<ipython-input-1-d07800af0c5f>\"\u001b[0;36m, line \u001b[0;32m15\u001b[0m\n\u001b[0;31m    for doc_id in self._Weighter._Index.docs.keys():\u001b[0m\n\u001b[0m                                                   ^\u001b[0m\n\u001b[0;31mSyntaxError\u001b[0m\u001b[0;31m:\u001b[0m invalid syntax\n"
     ]
    }
   ],
   "source": [
    "class OkapiModel(IRmodel):\n",
    "    def __init__(self,k1):\n",
    "        self.k1=k1\n",
    "        IRmodel.__init__(self)\n",
    "    def getScores(self,query):\n",
    "        L_moy=np.mean(self.__Weighter._Index.docs.values())\n",
    "        \n",
    "        L_d=np.sum(self._Weighter.getDocWeightsForDoc(doc_id).values)     \n",
    "        \n",
    "        N=len(self._Weighter._Index.docs)\n",
    "        \n",
    "        d_tf=self._Weighter.getDocWeightsForDoc(doc_id)\n",
    "        df_t=np.lem(self._Weighter.getDocWeightsForStem(t).value())      \n",
    "        idf_t=np.max(0,np.log((N-df_t+0.5)/(df_t+0.5))\n",
    "        \n",
    "        for doc_id in self._Weighter._Index.docs.keys():\n",
    "            d_tf=self._Weighter.getDocWeightsForDoc(doc_id)\n",
    "            df_t=np.lem(self._Weighter.getDocWeightsForStem(t).value())      \n",
    "            idf_t=np.max(0,np.log((N-df_t+0.5)/(df_t+0.5))\n",
    "            for t in  "
   ]
  },
  {
   "cell_type": "code",
   "execution_count": null,
   "metadata": {
    "collapsed": true
   },
   "outputs": [],
   "source": []
  }
 ],
 "metadata": {
  "kernelspec": {
   "display_name": "Python 2",
   "language": "python",
   "name": "python2"
  },
  "language_info": {
   "codemirror_mode": {
    "name": "ipython",
    "version": 2
   },
   "file_extension": ".py",
   "mimetype": "text/x-python",
   "name": "python",
   "nbconvert_exporter": "python",
   "pygments_lexer": "ipython2",
   "version": "2.7.11"
  }
 },
 "nbformat": 4,
 "nbformat_minor": 0
}
