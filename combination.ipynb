{
 "cells": [
  {
   "cell_type": "code",
   "execution_count": 6,
   "metadata": {
    "collapsed": true
   },
   "outputs": [],
   "source": [
    "from index import *\n",
    "from irmodel import *\n",
    "from weighter import *"
   ]
  },
  {
   "cell_type": "code",
   "execution_count": 12,
   "metadata": {
    "collapsed": false
   },
   "outputs": [],
   "source": [
    "class Featurer :\n",
    "    def __init__(self,):\n",
    "        'constructor'\n",
    "    def getFeatures(self,idDoc,query):\n",
    "        raise NotImplementedError('Abstract class')"
   ]
  },
  {
   "cell_type": "code",
   "execution_count": 13,
   "metadata": {
    "collapsed": false
   },
   "outputs": [],
   "source": [
    "class FeaturerDoc(Featurer):    \n",
    "#     weighter is Weightertfidf instance   \n",
    "    def __init__(self, weighter):\n",
    "        self.featuredoc = {} #  key: idDoc  value: double list \n",
    "        self.weighter = weighter     \n",
    "    def getFeatures(self, idDoc, query): \n",
    "        if idDoc not in self.docLengthFeature:\n",
    "            features = []\n",
    "            countWord = 0\n",
    "            tf_doc = self.weighter.getDocWeightsForDoc(idDoc)\n",
    "            len_doc=np.sum(tf_doc.values())\n",
    "            nb_terms=len(tf_doc.keys())\n",
    "            self.featuredoc[idDoc]=(len_doc,nb_terms)           \n",
    "        return self.featuredoc[idDoc]\n",
    "      "
   ]
  },
  {
   "cell_type": "code",
   "execution_count": 14,
   "metadata": {
    "collapsed": false
   },
   "outputs": [],
   "source": [
    "class FeaturerQuery(Featurer):\n",
    "#     weighter is Weightertfidf instance\n",
    "    def __init__(self,weighter):\n",
    "        self.weighter=weighter\n",
    "        self.featuresqueryidflen={} #key: query dic value:(idf,len)\n",
    "    def getFeatures(self,idDoc,query):\n",
    "        ps=PorterStemmer()\n",
    "        tf_query=ps.getTextRepresentation(query).values()\n",
    "        querykey=tuple(tf_query.items())\n",
    "        if querykey not in self.featuresqueryidflen.keys():\n",
    "            idf_query=weighter.WeigtsForQuery(query)\n",
    "            idf_sum=np.sum(idf_query.values())\n",
    "            len_query=np.sum(querykey)\n",
    "            self.featuresqueryidflen[querykey]=(idf_sum,len_query)\n",
    "        return self.featuresqueryidflen[querykey]\n",
    "        \n",
    "        "
   ]
  },
  {
   "cell_type": "code",
   "execution_count": 15,
   "metadata": {
    "collapsed": true
   },
   "outputs": [],
   "source": [
    "from TextRepresenter import TextRepresenter,PorterStemmer\n",
    "class FeaturerModel(Featurer):\n",
    "    def __init__(self,model,index,weighter):\n",
    "        self.model=model\n",
    "        self.index=index\n",
    "        self.weighter=weighter\n",
    "#         dic table features conserver les valeur calculer query as key\n",
    "        self.featuredocquery={}  # key: query to key   {doc_id:score}\n",
    "    def getFeatures(self,idDoc,query):\n",
    "        ps=PorterStemmer()\n",
    "        tf_query=ps.getTextRepresentation(query)\n",
    "        querykey=tuple(tf_query.items())\n",
    "#         ranking is a list dictionary  query is just text\n",
    "        if querykey not in self.featuredocquery.keys() or (idDoc not in [f[0] for f in self.featuredocquery[querykey]]): \n",
    "            ranking=self.model.getRanking(query)\n",
    "            self.featuredocquery[querykey]=ranking \n",
    "        return [ f[1] for  f in self.featuredocquery[querykey] if f[0]==idDoc][0]\n",
    "       "
   ]
  },
  {
   "cell_type": "code",
   "execution_count": 16,
   "metadata": {
    "collapsed": false
   },
   "outputs": [],
   "source": [
    "class FeaturerList(Featurer):\n",
    "    def __init__(self, featurers):\n",
    "        self.featurers = featurers      \n",
    "    def getFeatures(self, idDoc, query):\n",
    "        featuresList = []\n",
    "        for featurer in self.featurers:\n",
    "            featuresList.append(featurer.getFeatures(idDoc, query))          \n",
    "        return featuresList\n",
    "  "
   ]
  },
  {
   "cell_type": "code",
   "execution_count": 17,
   "metadata": {
    "collapsed": false
   },
   "outputs": [],
   "source": [
    "# w=WeighterTfIdf()\n",
    "# w.construct()\n",
    "# w.getWeigtsForQuery('love love love weight id ')"
   ]
  },
  {
   "cell_type": "code",
   "execution_count": 8,
   "metadata": {
    "collapsed": true
   },
   "outputs": [],
   "source": [
    "import numpy as np"
   ]
  },
  {
   "cell_type": "code",
   "execution_count": null,
   "metadata": {
    "collapsed": true
   },
   "outputs": [],
   "source": [
    "from irmodel import *\n",
    "from weighter import *\n",
    "from index import *\n",
    "from numpy.random import sample\n",
    "import numpy as np"
   ]
  },
  {
   "cell_type": "code",
   "execution_count": 18,
   "metadata": {
    "collapsed": false
   },
   "outputs": [],
   "source": [
    "from irmodel import *\n",
    "class MetaModel(IRmodel):\n",
    "    def __init__(self, featurerslist):\n",
    "        self.FeaturersList = featurerslist       "
   ]
  },
  {
   "cell_type": "code",
   "execution_count": 19,
   "metadata": {
    "collapsed": false
   },
   "outputs": [],
   "source": [
    "class LinearMetaModel(MetaModel):\n",
    "    def __init__(self,index,featurerlist):\n",
    "#         fetaurerlist can return  list of features\n",
    "#         queries are objet of query \n",
    "        self.index=index\n",
    "        self.max_iter=50\n",
    "        self.alpha=1e-7\n",
    "        self.lamda_l2=10-3\n",
    "        self.featurerlist=featurerlist\n",
    "        self.nb_feature=len(self.featurerlist.featurers)\n",
    "        self.theta=np.zeros(self.nb_feature)*1.\n",
    "    \n",
    "    def sgd(self,queries):\n",
    "        loss=0.0\n",
    "        for t in range(self.max_iter):\n",
    "            print t\n",
    "            query=queries[np.random.choice(queries.keys())]\n",
    "            if query.relevants!=None:          \n",
    "                docpert=np.random.choice(query.relevants)\n",
    "                docnonpert=np.random.choice(list(set(self.index.docs.keys())-set(query.relevants)))\n",
    "\n",
    "                featurespert = self.featurerlist.getFeatures(docpert, query.text)\n",
    "                featuresnonpert = self.featurerlist.getFeatures(docnonpert, query.text)\n",
    "                \n",
    "                scorepert=np.dot(self.theta,featurespert)\n",
    "                scorenonpert=np.dot(self.theta,featuresnonpert)\n",
    "\n",
    "               \n",
    "                if (1 - scorepert + scorenonpert > 0):\n",
    "                    self.theta+=list(self.alpha*np.asanyarray(([featurespert[i]-featuresnonpert[i] for i in range(self.nb_feature)])))   \n",
    "                    \n",
    "                  \n",
    "                self.theta *= (1- 2 * self.alpha * self.lamda_l2)\n",
    "                normtheta= np.linalg.norm(self.theta,ord=2)**2\n",
    "                \n",
    "                loss = max(0, 1 - scorepert + scorenonpert) + self.alpha * normtheta\n",
    "        return self.theta,loss\n",
    "            \n",
    "    def getScores(self,query):\n",
    "        scores={}\n",
    "        for idDoc in self.index.docs:\n",
    "            features = self.featurerlist.getFeatures(idDoc, query)\n",
    "            scores[idDoc] = np.dot(self.theta,features)\n",
    "        return scores\n",
    "           "
   ]
  },
  {
   "cell_type": "code",
   "execution_count": null,
   "metadata": {
    "collapsed": false
   },
   "outputs": [],
   "source": [
    "gq.queries['14'].relevants"
   ]
  },
  {
   "cell_type": "code",
   "execution_count": null,
   "metadata": {
    "collapsed": false
   },
   "outputs": [],
   "source": [
    "fl.getFeatures('1065','Number-theoretic algorithms, especially involving prime number series, sieves, and Chinese Remainder theorem.')"
   ]
  },
  {
   "cell_type": "code",
   "execution_count": null,
   "metadata": {
    "collapsed": false
   },
   "outputs": [],
   "source": [
    "lmm=LinearMetaModel(i,fl)\n",
    "lmm.sgd(gq.queries)"
   ]
  },
  {
   "cell_type": "code",
   "execution_count": null,
   "metadata": {
    "collapsed": false
   },
   "outputs": [],
   "source": [
    "score=lmm.getScores(gq.queries['1'].text)"
   ]
  },
  {
   "cell_type": "code",
   "execution_count": null,
   "metadata": {
    "collapsed": false
   },
   "outputs": [],
   "source": [
    "lmm.getRanking(gq.queries['1'].text)"
   ]
  },
  {
   "cell_type": "code",
   "execution_count": null,
   "metadata": {
    "collapsed": false
   },
   "outputs": [],
   "source": [
    "a=gq.queries['1']\n",
    "a.relevants"
   ]
  },
  {
   "cell_type": "code",
   "execution_count": null,
   "metadata": {
    "collapsed": false
   },
   "outputs": [],
   "source": [
    "i=Index()\n",
    "i.indexation()"
   ]
  },
  {
   "cell_type": "code",
   "execution_count": 20,
   "metadata": {
    "collapsed": false
   },
   "outputs": [],
   "source": [
    "fm=FeaturerModel(model=m,weighter=w,index=i)\n",
    "fm2=FeaturerModel(model=m,weighter=w1,index=i)\n",
    "featurers=[fm,fm2]\n",
    "fl=FeaturerList(featurers)"
   ]
  },
  {
   "cell_type": "code",
   "execution_count": 9,
   "metadata": {
    "collapsed": false
   },
   "outputs": [
    {
     "data": {
      "text/plain": [
       "<weighter.WeighterLogtfIdf instance at 0x114ce8d88>"
      ]
     },
     "execution_count": 9,
     "metadata": {},
     "output_type": "execute_result"
    }
   ],
   "source": [
    "w=WeighterTfTf()\n",
    "w.construct()\n",
    "i=Index()\n",
    "i.indexation()\n",
    "m=Vectoriel(weighter=w)\n",
    "m.construct()\n",
    "m.WeightsNormfordocs()\n",
    "w1=WeighterLogtfIdf()\n",
    "w1.construct()\n"
   ]
  },
  {
   "cell_type": "code",
   "execution_count": null,
   "metadata": {
    "collapsed": false
   },
   "outputs": [],
   "source": [
    "from queryparser import *"
   ]
  },
  {
   "cell_type": "code",
   "execution_count": 10,
   "metadata": {
    "collapsed": false
   },
   "outputs": [
    {
     "data": {
      "text/plain": [
       "{'1': <queryparser.Query instance at 0x10dc0a5f0>,\n",
       " '10': <queryparser.Query instance at 0x10ec12bd8>,\n",
       " '11': <queryparser.Query instance at 0x10ec12368>,\n",
       " '12': <queryparser.Query instance at 0x10ec125a8>,\n",
       " '13': <queryparser.Query instance at 0x10ec12098>,\n",
       " '14': <queryparser.Query instance at 0x10ec12170>,\n",
       " '15': <queryparser.Query instance at 0x10ec12dd0>,\n",
       " '16': <queryparser.Query instance at 0x10ec12cb0>,\n",
       " '17': <queryparser.Query instance at 0x10ec12680>,\n",
       " '18': <queryparser.Query instance at 0x10ec12248>,\n",
       " '19': <queryparser.Query instance at 0x10ec12d40>,\n",
       " '2': <queryparser.Query instance at 0x110c26998>,\n",
       " '20': <queryparser.Query instance at 0x10ec126c8>,\n",
       " '21': <queryparser.Query instance at 0x10ec12758>,\n",
       " '22': <queryparser.Query instance at 0x10ec120e0>,\n",
       " '23': <queryparser.Query instance at 0x10ec12710>,\n",
       " '24': <queryparser.Query instance at 0x10ec121b8>,\n",
       " '25': <queryparser.Query instance at 0x10ec12b90>,\n",
       " '26': <queryparser.Query instance at 0x10ec12a70>,\n",
       " '27': <queryparser.Query instance at 0x10ec12560>,\n",
       " '28': <queryparser.Query instance at 0x10ec12128>,\n",
       " '29': <queryparser.Query instance at 0x10ec12638>,\n",
       " '3': <queryparser.Query instance at 0x10e85fea8>,\n",
       " '30': <queryparser.Query instance at 0x10ec124d0>,\n",
       " '31': <queryparser.Query instance at 0x10ec12320>,\n",
       " '32': <queryparser.Query instance at 0x10ec122d8>,\n",
       " '33': <queryparser.Query instance at 0x10ec12290>,\n",
       " '34': <queryparser.Query instance at 0x10ec12440>,\n",
       " '35': <queryparser.Query instance at 0x10ec12200>,\n",
       " '36': <queryparser.Query instance at 0x10dc282d8>,\n",
       " '37': <queryparser.Query instance at 0x10dc28bd8>,\n",
       " '38': <queryparser.Query instance at 0x10dc28b90>,\n",
       " '39': <queryparser.Query instance at 0x10dc28638>,\n",
       " '4': <queryparser.Query instance at 0x10e85f830>,\n",
       " '40': <queryparser.Query instance at 0x10dc28f38>,\n",
       " '41': <queryparser.Query instance at 0x10dc283b0>,\n",
       " '42': <queryparser.Query instance at 0x10dc28518>,\n",
       " '43': <queryparser.Query instance at 0x10dc28dd0>,\n",
       " '44': <queryparser.Query instance at 0x10dc28d88>,\n",
       " '45': <queryparser.Query instance at 0x10dc285f0>,\n",
       " '46': <queryparser.Query instance at 0x10dc28290>,\n",
       " '47': <queryparser.Query instance at 0x10dc0bb48>,\n",
       " '48': <queryparser.Query instance at 0x10dc0bef0>,\n",
       " '49': <queryparser.Query instance at 0x10dc0b3b0>,\n",
       " '5': <queryparser.Query instance at 0x10ec127e8>,\n",
       " '50': <queryparser.Query instance at 0x10dc0b488>,\n",
       " '51': <queryparser.Query instance at 0x10dc0b368>,\n",
       " '52': <queryparser.Query instance at 0x10dc0b5a8>,\n",
       " '53': <queryparser.Query instance at 0x10dc0b098>,\n",
       " '54': <queryparser.Query instance at 0x10dc0b560>,\n",
       " '55': <queryparser.Query instance at 0x10dc0bea8>,\n",
       " '56': <queryparser.Query instance at 0x10dc0bdd0>,\n",
       " '57': <queryparser.Query instance at 0x10dc0b1b8>,\n",
       " '58': <queryparser.Query instance at 0x10dc11f38>,\n",
       " '59': <queryparser.Query instance at 0x10dc11cb0>,\n",
       " '6': <queryparser.Query instance at 0x10ec12cf8>,\n",
       " '60': <queryparser.Query instance at 0x10dc11248>,\n",
       " '61': <queryparser.Query instance at 0x10dc11950>,\n",
       " '62': <queryparser.Query instance at 0x10dc115f0>,\n",
       " '63': <queryparser.Query instance at 0x10dc11b00>,\n",
       " '64': <queryparser.Query instance at 0x10dc11e60>,\n",
       " '7': <queryparser.Query instance at 0x10ec12ef0>,\n",
       " '8': <queryparser.Query instance at 0x10ec123f8>,\n",
       " '9': <queryparser.Query instance at 0x10ec12d88>}"
      ]
     },
     "execution_count": 10,
     "metadata": {},
     "output_type": "execute_result"
    }
   ],
   "source": [
    "from queryparser import *\n",
    "gq=QueryCACM()\n",
    "gq.relevants()\n",
    "gq.Querycacm()\n",
    "gq.queries\n",
    "# query=gq.queries[np.random.choice(gq.queries.keys())]\n",
    "\n",
    "# pc.precision_recall\n",
    "# pc=PrecisionRecall(nbLevels=10)\n",
    "# pc.eval(irl)\n",
    "# # pc.precision_recall\n",
    "# np.shape(pc.eval(irl))\n",
    "# pm=PrecisionMean()\n",
    "# pm.eval(irl)\n",
    "# v=Vectoriel(weighter=WeighterTf1(),normalised=False)\n",
    "# v.construct()\n",
    "# v.WeightsNormfordocs()\n",
    "# irl=IRList(gq.queries['1'],v.getRanking(gq.queries['1'].text))"
   ]
  }
 ],
 "metadata": {
  "kernelspec": {
   "display_name": "Python 2",
   "language": "python",
   "name": "python2"
  },
  "language_info": {
   "codemirror_mode": {
    "name": "ipython",
    "version": 2
   },
   "file_extension": ".py",
   "mimetype": "text/x-python",
   "name": "python",
   "nbconvert_exporter": "python",
   "pygments_lexer": "ipython2",
   "version": "2.7.11"
  }
 },
 "nbformat": 4,
 "nbformat_minor": 0
}
