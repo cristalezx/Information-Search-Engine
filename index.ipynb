{
 "cells": [
  {
   "cell_type": "code",
   "execution_count": null,
   "metadata": {
    "collapsed": true
   },
   "outputs": [],
   "source": [
    "# TME1 class Index"
   ]
  },
  {
   "cell_type": "code",
   "execution_count": null,
   "metadata": {
    "collapsed": true
   },
   "outputs": [],
   "source": []
  },
  {
   "cell_type": "code",
   "execution_count": 1,
   "metadata": {
    "collapsed": true
   },
   "outputs": [],
   "source": [
    "import numpy as np\n",
    "from Parser import Parser\n",
    "from Document import Document\n",
    "from porter import stem\n",
    "from ParserCACM import ParserCACM\n",
    "from TextRepresenter import TextRepresenter,PorterStemmer"
   ]
  },
  {
   "cell_type": "code",
   "execution_count": 54,
   "metadata": {
    "collapsed": true
   },
   "outputs": [],
   "source": [
    "class Index:\n",
    "    def __init__(self,name=[],docs=[],stems=[],docFrom=[],parser=[],textRepresenter=[]):\n",
    "        self.name=name\n",
    "        self.docs=docs\n",
    "        self.docFrom=docFrom\n",
    "        self.stems=stems\n",
    "        self.parser=parser\n",
    "        self.textRepresenter=textRepresenter\n",
    "    def indexation(self):\n",
    "## Creat docs and stems docFrom\n",
    "        self.docs=CreatDocs()\n",
    "        self.stems=CreatTerms()\n",
    "        self.docFrom=CreatdocFrom()\n",
    "        self.parser=ParserCACM()\n",
    "        self.texRepresenter=PorterStemmer() \n",
    "        self.linkin,self.linkout=createlink()\n",
    "        return self\n",
    "    def getTfsForDoc(self,doc_id):\n",
    "        f=open(\"_index.txt\",'r')\n",
    "        f.seek(self.docs[doc_id][0])\n",
    "        Tfs_dic=eval(\"{\"+f.read(self.docs[doc_id][1])+\"}\")  \n",
    "        \n",
    "        return Tfs_dic[doc_id][0]\n",
    "    def getTfsForStem(self,stem):\n",
    "        f=open(\"_inversed.txt\",'r')\n",
    "        f.seek(self.stems[stem][0])\n",
    "        return eval(\"{\"+f.read(self.stems[stem][1])+\"}\")       \n",
    "    def getStrDoc(self,doc_id): \n",
    "        f=open(\"cacm/cacm.txt\",'r')\n",
    "        f.seek(self.docFrom[doc_id][0])       \n",
    "        return f.read(self.docFrom[doc_id][1]).split('\\n')\n",
    "\n",
    "def CreatDocs():\n",
    "    h=open('_index.txt','r+')\n",
    "    for i in h:\n",
    "        i=i\n",
    "    a=i[1:-2].split(\"], \")\n",
    "    position=1\n",
    "    length=0\n",
    "    dic={}\n",
    "    for i in range(0,len(a)):\n",
    "        if i==0:\n",
    "            key=a[i].split(\":\")\n",
    "            length=len(a[i])+1\n",
    "            dic[str(key[0])[1:-1]]=[1,length]\n",
    "        else:\n",
    "            key=a[i].split(\":\")\n",
    "            length=len(a[i])+1\n",
    "            position=position+len(a[i-1])+3            \n",
    "            dic[key[0][1:-1]]=(position,length)   \n",
    "    return dic\n",
    "def CreatTerms():\n",
    "    g=open('_inversed.txt','r')\n",
    "    for i in g:\n",
    "        i=i\n",
    "    a=i[1:-1].split(\"], \")\n",
    "    dic={}\n",
    "    position=1\n",
    "    length=0\n",
    "    for i in range(0,len(a)):\n",
    "        if i==0:\n",
    "            key=a[i].split(\":\")\n",
    "            length=len(a[i])+1\n",
    "            dic[key[0][1:-1]]=[1,length]\n",
    "        elif i==(len(a)-1):\n",
    "            key=a[i].split(\":\")\n",
    "            length=len(a[i])+1\n",
    "            position=position+len(a[i-1])+3            \n",
    "            dic[key[0][1:-1]]=(position,length-1) \n",
    "        \n",
    "            \n",
    "        else:\n",
    "            key=a[i].split(\":\")\n",
    "            length=len(a[i])+1\n",
    "            position=position+len(a[i-1])+3            \n",
    "            dic[key[0][1:-1]]=(position,length) \n",
    "            \n",
    "        \n",
    "        \n",
    "    \n",
    "        \n",
    "    return dic\n",
    "def CreatdocFrom():\n",
    "    f=open(\"cacm/cacm.txt\",'r+')\n",
    "    docFrom={}\n",
    "    length_all=[]\n",
    "    keys=[]\n",
    "    length=0\n",
    "    position=0\n",
    "    for i in f:\n",
    "        if i[:2]==\".I\": \n",
    "            docFrom[i[3:-1]]=[position,]\n",
    "            keys.append(i[3:-1])\n",
    "            length_all.append(length)\n",
    "            length=0\n",
    "        position=position+ len(i) \n",
    "        length=length+len(i)\n",
    "    length_all.append(length)   \n",
    "    for i in range(len(keys)):\n",
    "        docFrom[keys[i]].append(length_all[i+1])\n",
    "    return docFrom\n",
    "def createlink():\n",
    "    linkout={}\n",
    "    linkin={}\n",
    "    ps=ParserCACM()\n",
    "    ps.initFile(\"cacm/cacm.txt\")\n",
    "    doc=ps.nextDocument()\n",
    "    while doc:\n",
    "        linkout[doc.getId()]=set()\n",
    "        links=doc.get('links').split(';')\n",
    "        for link in links:\n",
    "            if link!='':\n",
    "                linkout[doc.getId()].add(link)\n",
    "                if link not in linkin:\n",
    "                    linkin[link]=set()    # value unique            \n",
    "                linkin[link].add(doc.getId())                             \n",
    "        doc=ps.nextDocument() \n",
    "    return linkin,linkout"
   ]
  },
  {
   "cell_type": "code",
   "execution_count": 62,
   "metadata": {
    "collapsed": true
   },
   "outputs": [],
   "source": [
    "def CreatDocs():\n",
    "    h=open('_index.txt','r+')\n",
    "    for i in h:\n",
    "        i=i\n",
    "    a=i[1:-2].split(\"], \")\n",
    "    position=1\n",
    "    length=0\n",
    "    dic={}\n",
    "    for i in range(0,len(a)):\n",
    "        if i==0:\n",
    "            key=a[i].split(\":\")\n",
    "            length=len(a[i])+1\n",
    "            dic[str(key[0])[1:-1]]=[1,length]\n",
    "        else:\n",
    "            key=a[i].split(\":\")\n",
    "            length=len(a[i])+1\n",
    "            position=position+len(a[i-1])+3            \n",
    "            dic[key[0][1:-1]]=(position,length)   \n",
    "    return dic\n",
    "d=CreatDocs()"
   ]
  },
  {
   "cell_type": "code",
   "execution_count": 91,
   "metadata": {
    "collapsed": false
   },
   "outputs": [],
   "source": [
    "h=open('_index.txt','r+')\n",
    "dd=[]\n",
    "for i in h:\n",
    "    dd.append(i)\n"
   ]
  },
  {
   "cell_type": "code",
   "execution_count": null,
   "metadata": {
    "collapsed": true
   },
   "outputs": [],
   "source": []
  },
  {
   "cell_type": "code",
   "execution_count": 93,
   "metadata": {
    "collapsed": false
   },
   "outputs": [
    {
     "data": {
      "text/plain": [
       "27828135"
      ]
     },
     "execution_count": 93,
     "metadata": {},
     "output_type": "execute_result"
    }
   ],
   "source": [
    "len(dd[0])"
   ]
  },
  {
   "cell_type": "code",
   "execution_count": 84,
   "metadata": {
    "collapsed": false
   },
   "outputs": [
    {
     "data": {
      "text/plain": [
       "27827634"
      ]
     },
     "execution_count": 84,
     "metadata": {},
     "output_type": "execute_result"
    }
   ],
   "source": [
    "len(dd[0])"
   ]
  },
  {
   "cell_type": "code",
   "execution_count": 88,
   "metadata": {
    "collapsed": false
   },
   "outputs": [],
   "source": [
    "len(dd[0])"
   ]
  },
  {
   "cell_type": "code",
   "execution_count": 89,
   "metadata": {
    "collapsed": false
   },
   "outputs": [
    {
     "ename": "KeyError",
     "evalue": "'3205'",
     "output_type": "error",
     "traceback": [
      "\u001b[0;31m---------------------------------------------------------------------------\u001b[0m",
      "\u001b[0;31mKeyError\u001b[0m                                  Traceback (most recent call last)",
      "\u001b[0;32m<ipython-input-89-08460bbc24a4>\u001b[0m in \u001b[0;36m<module>\u001b[0;34m()\u001b[0m\n\u001b[0;32m----> 1\u001b[0;31m \u001b[0mdic\u001b[0m\u001b[0;34m[\u001b[0m\u001b[0;34m'3205'\u001b[0m\u001b[0;34m]\u001b[0m\u001b[0;34m\u001b[0m\u001b[0m\n\u001b[0m",
      "\u001b[0;31mKeyError\u001b[0m: '3205'"
     ]
    }
   ],
   "source": [
    "dic['3205']"
   ]
  },
  {
   "cell_type": "code",
   "execution_count": 55,
   "metadata": {
    "collapsed": true
   },
   "outputs": [],
   "source": [
    "# i=Index()"
   ]
  },
  {
   "cell_type": "code",
   "execution_count": 56,
   "metadata": {
    "collapsed": false
   },
   "outputs": [
    {
     "data": {
      "text/plain": [
       "<__main__.Index instance at 0x10ee02290>"
      ]
     },
     "execution_count": 56,
     "metadata": {},
     "output_type": "execute_result"
    }
   ],
   "source": [
    "# i.indexation()\n"
   ]
  },
  {
   "cell_type": "code",
   "execution_count": 57,
   "metadata": {
    "collapsed": false
   },
   "outputs": [],
   "source": [
    "# i.linkin"
   ]
  },
  {
   "cell_type": "code",
   "execution_count": 58,
   "metadata": {
    "collapsed": false
   },
   "outputs": [],
   "source": [
    "# i.stems"
   ]
  },
  {
   "cell_type": "code",
   "execution_count": 60,
   "metadata": {
    "collapsed": false
   },
   "outputs": [
    {
     "data": {
      "text/plain": [
       "{'emeri': [('597', 1),\n",
       "  ('3206', 1),\n",
       "  ('3212', 1),\n",
       "  ('3214', 1),\n",
       "  ('3215', 1),\n",
       "  ('3216', 1),\n",
       "  ('3218', 1),\n",
       "  ('3222', 1),\n",
       "  ('3226', 1),\n",
       "  ('3233', 1),\n",
       "  ('3241', 1),\n",
       "  ('3242', 2),\n",
       "  ('3245', 1),\n",
       "  ('3247', 1),\n",
       "  ('3249', 1),\n",
       "  ('3255', 1),\n",
       "  ('3257', 1),\n",
       "  ('3263', 1),\n",
       "  ('3271', 1),\n",
       "  ('3272', 1),\n",
       "  ('3279', 1),\n",
       "  ('3287', 2),\n",
       "  ('3288', 1),\n",
       "  ('3290', 1),\n",
       "  ('3296', 1),\n",
       "  ('3298', 1),\n",
       "  ('3303', 1),\n",
       "  ('3307', 1),\n",
       "  ('3313', 1),\n",
       "  ('3327', 1),\n",
       "  ('3334', 1),\n",
       "  ('3337', 1),\n",
       "  ('3346', 1),\n",
       "  ('3356', 2),\n",
       "  ('3358', 2),\n",
       "  ('3363', 1),\n",
       "  ('3372', 1),\n",
       "  ('3373', 1),\n",
       "  ('3378', 1),\n",
       "  ('3381', 1),\n",
       "  ('3383', 1),\n",
       "  ('3391', 2),\n",
       "  ('3398', 1),\n",
       "  ('3401', 1),\n",
       "  ('3410', 1),\n",
       "  ('3415', 1),\n",
       "  ('3426', 1),\n",
       "  ('3428', 1),\n",
       "  ('3430', 1),\n",
       "  ('3433', 1),\n",
       "  ('3437', 1),\n",
       "  ('3443', 1),\n",
       "  ('3444', 2),\n",
       "  ('3445', 1),\n",
       "  ('3446', 2),\n",
       "  ('3450', 1),\n",
       "  ('3456', 2),\n",
       "  ('3462', 1),\n",
       "  ('3463', 1),\n",
       "  ('3470', 1),\n",
       "  ('3474', 2),\n",
       "  ('3486', 1),\n",
       "  ('3503', 1),\n",
       "  ('3510', 1),\n",
       "  ('3511', 1),\n",
       "  ('3514', 2),\n",
       "  ('3515', 3),\n",
       "  ('3516', 1),\n",
       "  ('3518', 1),\n",
       "  ('3525', 1),\n",
       "  ('3527', 1),\n",
       "  ('3530', 2),\n",
       "  ('3536', 1),\n",
       "  ('3537', 1),\n",
       "  ('3539', 1),\n",
       "  ('3541', 1),\n",
       "  ('3543', 1),\n",
       "  ('3547', 2),\n",
       "  ('3556', 1),\n",
       "  ('3563', 1),\n",
       "  ('3564', 1),\n",
       "  ('3568', 2),\n",
       "  ('3576', 1),\n",
       "  ('3577', 1),\n",
       "  ('3578', 1),\n",
       "  ('3581', 2),\n",
       "  ('3587', 1),\n",
       "  ('3591', 1),\n",
       "  ('3592', 1),\n",
       "  ('3601', 1),\n",
       "  ('3602', 2),\n",
       "  ('3603', 1),\n",
       "  ('3614', 1),\n",
       "  ('3623', 1),\n",
       "  ('3637', 1),\n",
       "  ('3639', 1),\n",
       "  ('3645', 3),\n",
       "  ('3650', 1),\n",
       "  ('3653', 1),\n",
       "  ('3660', 1),\n",
       "  ('3661', 1),\n",
       "  ('3663', 1),\n",
       "  ('3666', 1),\n",
       "  ('3672', 1),\n",
       "  ('3673', 2),\n",
       "  ('3677', 1),\n",
       "  ('3679', 2),\n",
       "  ('3681', 2),\n",
       "  ('3686', 1),\n",
       "  ('3690', 1),\n",
       "  ('3692', 1),\n",
       "  ('3695', 1),\n",
       "  ('3699', 1),\n",
       "  ('3702', 1),\n",
       "  ('3706', 1),\n",
       "  ('3707', 1),\n",
       "  ('3709', 1),\n",
       "  ('3713', 1),\n",
       "  ('3715', 1),\n",
       "  ('3717', 1),\n",
       "  ('3720', 1),\n",
       "  ('3721', 1),\n",
       "  ('3728', 1),\n",
       "  ('3729', 1),\n",
       "  ('3730', 1),\n",
       "  ('3732', 1),\n",
       "  ('3736', 1),\n",
       "  ('3737', 1),\n",
       "  ('3742', 1),\n",
       "  ('3743', 2),\n",
       "  ('3746', 1),\n",
       "  ('3750', 1),\n",
       "  ('3763', 1),\n",
       "  ('3765', 1),\n",
       "  ('3771', 1),\n",
       "  ('3775', 1),\n",
       "  ('3777', 2),\n",
       "  ('3778', 1),\n",
       "  ('3789', 1),\n",
       "  ('3790', 1),\n",
       "  ('3791', 2),\n",
       "  ('3797', 1),\n",
       "  ('3798', 2),\n",
       "  ('3801', 1),\n",
       "  ('3802', 1),\n",
       "  ('3811', 1),\n",
       "  ('3812', 1),\n",
       "  ('3814', 1),\n",
       "  ('3819', 1),\n",
       "  ('3820', 1),\n",
       "  ('3822', 2),\n",
       "  ('3831', 1),\n",
       "  ('3833', 1),\n",
       "  ('3836', 1),\n",
       "  ('3844', 2),\n",
       "  ('3845', 1),\n",
       "  ('3846', 2),\n",
       "  ('3851', 1),\n",
       "  ('3852', 1),\n",
       "  ('3865', 1),\n",
       "  ('3868', 1),\n",
       "  ('3869', 1),\n",
       "  ('3871', 1),\n",
       "  ('3873', 2),\n",
       "  ('3876', 1),\n",
       "  ('3879', 1),\n",
       "  ('3890', 1),\n",
       "  ('3903', 1),\n",
       "  ('3908', 1),\n",
       "  ('3912', 2),\n",
       "  ('3913', 1),\n",
       "  ('3915', 1),\n",
       "  ('3920', 1),\n",
       "  ('3923', 1),\n",
       "  ('3925', 1),\n",
       "  ('3926', 1),\n",
       "  ('3930', 1),\n",
       "  ('3932', 1),\n",
       "  ('3933', 1),\n",
       "  ('3938', 1),\n",
       "  ('3941', 2),\n",
       "  ('3951', 1),\n",
       "  ('3952', 1),\n",
       "  ('3954', 2),\n",
       "  ('3962', 1),\n",
       "  ('3967', 2),\n",
       "  ('3972', 1),\n",
       "  ('3978', 2),\n",
       "  ('3979', 1),\n",
       "  ('3982', 1),\n",
       "  ('3985', 2),\n",
       "  ('3986', 2),\n",
       "  ('3988', 2),\n",
       "  ('3991', 1),\n",
       "  ('3992', 1),\n",
       "  ('3996', 1),\n",
       "  ('3997', 1),\n",
       "  ('4000', 1),\n",
       "  ('4003', 1),\n",
       "  ('4013', 1),\n",
       "  ('4021', 1),\n",
       "  ('4026', 1),\n",
       "  ('4040', 1),\n",
       "  ('4044', 2),\n",
       "  ('4045', 1),\n",
       "  ('4046', 2),\n",
       "  ('4048', 1),\n",
       "  ('4059', 3),\n",
       "  ('4062', 1),\n",
       "  ('4064', 1),\n",
       "  ('4066', 1),\n",
       "  ('4069', 1),\n",
       "  ('4075', 1),\n",
       "  ('4077', 1),\n",
       "  ('4084', 1),\n",
       "  ('4086', 1),\n",
       "  ('4087', 2),\n",
       "  ('4089', 1),\n",
       "  ('4090', 1),\n",
       "  ('4092', 2),\n",
       "  ('4101', 1),\n",
       "  ('4106', 1),\n",
       "  ('4109', 1),\n",
       "  ('4113', 1),\n",
       "  ('4116', 1),\n",
       "  ('4119', 2),\n",
       "  ('4121', 1),\n",
       "  ('4125', 1),\n",
       "  ('4127', 1),\n",
       "  ('4131', 1),\n",
       "  ('4136', 1),\n",
       "  ('4138', 1),\n",
       "  ('4139', 1),\n",
       "  ('4142', 1),\n",
       "  ('4145', 1),\n",
       "  ('4147', 3),\n",
       "  ('4148', 1),\n",
       "  ('4151', 1),\n",
       "  ('4155', 1),\n",
       "  ('4156', 2),\n",
       "  ('4162', 1),\n",
       "  ('4164', 1),\n",
       "  ('4167', 1),\n",
       "  ('4169', 1),\n",
       "  ('4178', 1),\n",
       "  ('4183', 1),\n",
       "  ('4194', 1),\n",
       "  ('4196', 1),\n",
       "  ('4199', 1)]}"
      ]
     },
     "execution_count": 60,
     "metadata": {},
     "output_type": "execute_result"
    }
   ],
   "source": [
    "i.getTfsForStem('emeri')"
   ]
  },
  {
   "cell_type": "code",
   "execution_count": 7,
   "metadata": {
    "collapsed": false
   },
   "outputs": [
    {
     "data": {
      "text/plain": [
       "['invari', 'emeri']"
      ]
     },
     "execution_count": 7,
     "metadata": {},
     "output_type": "execute_result"
    }
   ],
   "source": [
    "i.stems.keys()[-2:]"
   ]
  },
  {
   "cell_type": "code",
   "execution_count": null,
   "metadata": {
    "collapsed": false
   },
   "outputs": [],
   "source": [
    "len(i.linkout['3734'])\n",
    "# len(i.linkout)"
   ]
  },
  {
   "cell_type": "code",
   "execution_count": null,
   "metadata": {
    "collapsed": true
   },
   "outputs": [],
   "source": []
  },
  {
   "cell_type": "code",
   "execution_count": null,
   "metadata": {
    "collapsed": false
   },
   "outputs": [],
   "source": []
  },
  {
   "cell_type": "code",
   "execution_count": null,
   "metadata": {
    "collapsed": false
   },
   "outputs": [],
   "source": [
    "len(i.linkin)"
   ]
  },
  {
   "cell_type": "code",
   "execution_count": null,
   "metadata": {
    "collapsed": false
   },
   "outputs": [],
   "source": [
    "from sklearn.metrics import as mse\n",
    "import copy"
   ]
  },
  {
   "cell_type": "code",
   "execution_count": null,
   "metadata": {
    "collapsed": false
   },
   "outputs": [],
   "source": [
    "class RandomWalk:\n",
    "    def __init__(self):\n",
    "        return self\n",
    "    def randomwalk(self):\n",
    "        raise NotImplementedError('Always abstract class')       \n",
    "class PageRank(RandomWalk):\n",
    "    def __init__(self,max_iter,d):\n",
    "        self.max_iter=max_iter\n",
    "        self.d=d\n",
    "    def randomwalk(self,linkout,linkin):\n",
    "        self.mu={}\n",
    "#         inital value\n",
    "# linkout sortit de point i\n",
    "# linkin enter in point i\n",
    "# (V,E)=(all the document, link enter in this page =link in)\n",
    "\n",
    "        N=len(linkout)*1.\n",
    "        for page in linkout:\n",
    "            self.mu[page]=1./N\n",
    "        for t in range(self.max_iter):   \n",
    "            mu_last=copy.deepcopy(self.mu)\n",
    "            for i in linkout:\n",
    "                Amu_i=0\n",
    "                if linkin.has_key(i):\n",
    "                    for j in linkin[i]:\n",
    "                        Amu_i+=1.*self.mu[j]/len(linkout[j])# matrix compute\n",
    "                self.mu[i]=1.*(1.-self.d)/N+self.d*Amu_i  \n",
    "             \n",
    "            print mse(self.mu.values(),mu_last.values())*len(mu_last.values())\n",
    "        return self.mu  \n",
    "    \n",
    "class HITS(RandomWalk):\n",
    "    def __init__(self,max_iter):\n",
    "        self.max_iter=max_iter\n",
    "    def randomwalk(self,linkout,linkin):\n",
    "        self.a={}\n",
    "        self.h={}\n",
    "#         initial values\n",
    "        for node in linkout:\n",
    "            self.a[node]=1.\n",
    "            self.h[node]=1.\n",
    "        for t in range(self.max_iter):\n",
    "            a_last=copy.deepcopy(self.a)\n",
    "#             print a_last['1']\n",
    "            h_last=copy.deepcopy(self.h)\n",
    "            for i in linkout:         \n",
    "                if linkin.has_key(i):\n",
    "                    self.a[i]=np.sum(self.h[j] for j in list(linkin[i]))*1.\n",
    "                    self.h[i]=np.sum(self.a[j] for j in list(linkout[i]))*1.   \n",
    "                else:\n",
    "                    self.a[i]=0.\n",
    "                    self.h[i]=np.sum(self.a[j] for j in list(linkout[i])) *1.   \n",
    "            a_norm=1.*np.linalg.norm(self.a.values(),ord=2)\n",
    "            h_norm=1.*np.linalg.norm(self.h.values(),ord=2)\n",
    "#             print self.a['593']\n",
    "            for k in self.a:\n",
    "                self.a[k]=1.*self.a[k]/a_norm\n",
    "            for k in self.h:\n",
    "                self.h[k]=1.*self.h[k]/h_norm\n",
    "#             print float(self.a['593'])\n",
    "            print 4204*mse(self.a.values(),a_last.values())+4204*mse(self.h.values(),h_last.values())\n",
    "        return self.a"
   ]
  },
  {
   "cell_type": "code",
   "execution_count": null,
   "metadata": {
    "collapsed": false
   },
   "outputs": [],
   "source": [
    "# h=HITS(2)\n",
    "# h.randomwalk(i.linkout,i.linkin)"
   ]
  },
  {
   "cell_type": "code",
   "execution_count": null,
   "metadata": {
    "collapsed": false
   },
   "outputs": [],
   "source": [
    "pr=PageRank(10,0.85)\n",
    "# a=pr.randomwalk(i.linkout,i.linkin)"
   ]
  },
  {
   "cell_type": "code",
   "execution_count": null,
   "metadata": {
    "collapsed": false
   },
   "outputs": [],
   "source": [
    "from numpy.random import sample"
   ]
  },
  {
   "cell_type": "code",
   "execution_count": null,
   "metadata": {
    "collapsed": false
   },
   "outputs": [],
   "source": [
    "from irmodel import *\n",
    "class ModelRandomWork(IRmodel):\n",
    "    def __init__(self,irmodel,index,weighter,randomwalk,nb_seeds,k):\n",
    "        \n",
    "#         random walk , model, index are instance\n",
    "        self.weighter=weighter\n",
    "        self.irmodel=irmodel\n",
    "        self.nb_seeds=nb_seeds\n",
    "        self.k=k\n",
    "        self.index=index   \n",
    "        IRmodel.__init__(self,weighter)\n",
    "    def ModelGraphe(self,query):\n",
    "        print self.index\n",
    "        docs=[]\n",
    "#         three kinds of model: vector language okapi\n",
    "        ranking=self.irmodel.getRanking(query)\n",
    "    \n",
    "        docs=[k for k,value in ranking]\n",
    "#         inition VQ\n",
    "        seeds=docs[:self.nb_seeds]\n",
    "        V_Q=set() # unique value \n",
    "        V_Q=seeds\n",
    "        for i in range(self.nb_seeds):\n",
    "            for j in self.index.linkout[seeds[i]]:\n",
    "                V_Q.add(j)\n",
    "            if self.index.linkout.has_key(seeds[i]):                \n",
    "                V_Q.add([self.index.linkin[seeds[i]][j] for j in sample(len(self.index.linkin[seeds[i]]),self.k)])\n",
    "\n",
    "#       sous graphe (VQ,EQ)\n",
    "\n",
    "        souslinkouts = {}\n",
    "        souslinkins = {}\n",
    "        for doc in V_Q:\n",
    "            souslinkouts[doc] = set()\n",
    "            if doc not in souslinkins:\n",
    "                souslinkins[doc] = set()\n",
    "            for s in self.index.linkouts[doc]:\n",
    "                if s in V_Q:\n",
    "                    souslinkouts[doc].add(s)\n",
    "                    if s not in sousPredecesseurs:\n",
    "                        souslinkins[s] = set()\n",
    "                    souslinkins[s].add(doc)\n",
    "# random walk  is a instance already defined  \n",
    "#         if self.randomWalk == 1:\n",
    "#             rw = PageRank(0.85, 20)\n",
    "#         else:\n",
    "#             rw = HITS(20)\n",
    "        self.scores = rw.randomWalk(souslinkouts, souslinkins) \n",
    "        return self.scores\n",
    "        \n",
    "        \n",
    "        \n",
    "\n"
   ]
  },
  {
   "cell_type": "code",
   "execution_count": null,
   "metadata": {
    "collapsed": false
   },
   "outputs": [],
   "source": [
    "# a=v.getRanking('I love')\n",
    "# docs=[k for k,value in a]\n",
    "# docs\n",
    "# ind=i\n",
    "# ind.linkin\n",
    "# ind.linkout"
   ]
  },
  {
   "cell_type": "code",
   "execution_count": null,
   "metadata": {
    "collapsed": false
   },
   "outputs": [],
   "source": [
    "mrw=ModelRandomWork(irmodel=v,index=ind,weighter=w,randomwalk=pr,nb_seeds=10,k=0)\n",
    "mrw.ModelGraphe(\"i love\")"
   ]
  },
  {
   "cell_type": "code",
   "execution_count": null,
   "metadata": {
    "collapsed": true
   },
   "outputs": [],
   "source": [
    "from weighter import *"
   ]
  },
  {
   "cell_type": "code",
   "execution_count": null,
   "metadata": {
    "collapsed": false
   },
   "outputs": [],
   "source": [
    "w=WeighterTfTf()\n",
    "v=Vectoriel(weighter=w)\n",
    "v.construct()\n",
    "v.WeightsNormfordocs()"
   ]
  },
  {
   "cell_type": "code",
   "execution_count": null,
   "metadata": {
    "collapsed": false
   },
   "outputs": [],
   "source": [
    "a=[1,2]\n",
    "print a[:0]"
   ]
  },
  {
   "cell_type": "code",
   "execution_count": 3,
   "metadata": {
    "collapsed": true
   },
   "outputs": [],
   "source": []
  },
  {
   "cell_type": "code",
   "execution_count": 4,
   "metadata": {
    "collapsed": false
   },
   "outputs": [
    {
     "data": {
      "text/plain": [
       "<irmodel.Vectoriel instance at 0x10397cb90>"
      ]
     },
     "execution_count": 4,
     "metadata": {},
     "output_type": "execute_result"
    }
   ],
   "source": []
  },
  {
   "cell_type": "code",
   "execution_count": null,
   "metadata": {
    "collapsed": true
   },
   "outputs": [],
   "source": [
    "v.getRanking()"
   ]
  }
 ],
 "metadata": {
  "kernelspec": {
   "display_name": "Python 2",
   "language": "python",
   "name": "python2"
  },
  "language_info": {
   "codemirror_mode": {
    "name": "ipython",
    "version": 2
   },
   "file_extension": ".py",
   "mimetype": "text/x-python",
   "name": "python",
   "nbconvert_exporter": "python",
   "pygments_lexer": "ipython2",
   "version": "2.7.11"
  }
 },
 "nbformat": 4,
 "nbformat_minor": 0
}
