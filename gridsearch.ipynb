{
 "cells": [
  {
   "cell_type": "code",
   "execution_count": 2,
   "metadata": {
    "collapsed": false
   },
   "outputs": [],
   "source": [
    "from irmodel import  *\n",
    "from weighter import *\n",
    "from index import *\n",
    "import numpy as np\n",
    "from queryparser import *"
   ]
  },
  {
   "cell_type": "code",
   "execution_count": 3,
   "metadata": {
    "collapsed": false
   },
   "outputs": [],
   "source": [
    "class GridSearch:\n",
    "    def __innit__(self,irmodel,evalmeasure,queries,weighter):\n",
    "#         irmodel is just langue or okapi\n",
    "        self.irmodel=irmodel\n",
    "        self.evalmeasure=evalmeasure\n",
    "        self.queries=queries\n",
    "        self.weighter=weighter\n",
    "    def optimisation(self):# List of parameters\n",
    "# parameters: lambda for kanguage model, k and b for Okapi\n",
    "        bestparas=[]\n",
    "        bestscore=0\n",
    "        if self.irmodel=='langue':     \n",
    "            lamdas=np.arange(0,1,0.1)\n",
    "            for lamda in lamdas:\n",
    "                lm=LanguageModel(lamda=lamda)\n",
    "                em=EvalIRModel(model=lm,evalu=self.evalmeasure)\n",
    "                mean,std=em.eveluation (self.queries)\n",
    "                if np.sum(mean)>bestscore:\n",
    "                    bestscore=np.sum(mean)\n",
    "                    bestparas=lamda\n",
    "\n",
    "        if self.irmodel=='okapi': \n",
    "            ks=np.arange(1.0, 2.0, 0.2)\n",
    "            bs=np.arange(0.7, 0.8, 0.01)\n",
    "            for k in ks :\n",
    "                for b in bs:\n",
    "                    lm=OkapiModel(k1=k,b=b)\n",
    "                    em=EvalIRModel(model=lm,evalu=self.evalmeasure)\n",
    "                    mean,std=em.eveluation (self.queries)\n",
    "                    if np.sum(mean)>bestscore:\n",
    "                        bestscore=np.sum(mean)\n",
    "                        bestparas=[k,b]\n",
    "        print 'BestParameters for model:'+str(self.irmodel)+\"are/is:\"+bestparas\n",
    "\n",
    "        return bestparas\n",
    "    "
   ]
  }
 ],
 "metadata": {
  "kernelspec": {
   "display_name": "Python 2",
   "language": "python",
   "name": "python2"
  },
  "language_info": {
   "codemirror_mode": {
    "name": "ipython",
    "version": 2
   },
   "file_extension": ".py",
   "mimetype": "text/x-python",
   "name": "python",
   "nbconvert_exporter": "python",
   "pygments_lexer": "ipython2",
   "version": "2.7.11"
  }
 },
 "nbformat": 4,
 "nbformat_minor": 0
}
